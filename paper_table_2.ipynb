{
 "cells": [
  {
   "cell_type": "code",
   "execution_count": 4,
   "metadata": {
    "collapsed": true
   },
   "outputs": [],
   "source": [
    "import pandas as pd\n",
    "import matplotlib.pyplot as plt\n",
    "import seaborn as sns\n",
    "import statsmodels.formula.api as sm\n",
    "import numpy as np \n",
    "\n",
    "%matplotlib inline"
   ]
  },
  {
   "cell_type": "markdown",
   "metadata": {},
   "source": [
    "### Table 2"
   ]
  },
  {
   "cell_type": "markdown",
   "metadata": {},
   "source": [
    "Load data from file"
   ]
  },
  {
   "cell_type": "code",
   "execution_count": 5,
   "metadata": {
    "collapsed": true
   },
   "outputs": [],
   "source": [
    "dat = pd.read_pickle('indian2000.df')"
   ]
  },
  {
   "cell_type": "markdown",
   "metadata": {},
   "source": [
    "Try some stuff"
   ]
  },
  {
   "cell_type": "code",
   "execution_count": 10,
   "metadata": {
    "collapsed": false
   },
   "outputs": [
    {
     "name": "stdout",
     "output_type": "stream",
     "text": [
      "                            OLS Regression Results                            \n",
      "==============================================================================\n",
      "Dep. Variable:           pcinc_co_log   R-squared:                       0.024\n",
      "Model:                            OLS   Adj. R-squared:                  0.018\n",
      "Method:                 Least Squares   F-statistic:                     4.399\n",
      "Date:                Tue, 27 Dec 2016   Prob (F-statistic):             0.0373\n",
      "Time:                        22:49:58   Log-Likelihood:                 78.711\n",
      "No. Observations:                 182   AIC:                            -153.4\n",
      "Df Residuals:                     180   BIC:                            -147.0\n",
      "Df Model:                           1                                         \n",
      "Covariance Type:            nonrobust                                         \n",
      "==============================================================================\n",
      "                 coef    std err          t      P>|t|      [95.0% Conf. Int.]\n",
      "------------------------------------------------------------------------------\n",
      "Intercept      9.8374      0.019    517.566      0.000         9.800     9.875\n",
      "FC            -0.0506      0.024     -2.097      0.037        -0.098    -0.003\n",
      "==============================================================================\n",
      "Omnibus:                        0.113   Durbin-Watson:                   2.175\n",
      "Prob(Omnibus):                  0.945   Jarque-Bera (JB):                0.043\n",
      "Skew:                          -0.038   Prob(JB):                        0.979\n",
      "Kurtosis:                       3.003   Cond. No.                         3.01\n",
      "==============================================================================\n",
      "\n",
      "Warnings:\n",
      "[1] Standard Errors assume that the covariance matrix of the errors is correctly specified.\n"
     ]
    }
   ],
   "source": [
    "res = sm.ols(formula='pcinc_co_log ~ FC', data=dat).fit()\n",
    "print(res.summary())"
   ]
  },
  {
   "cell_type": "code",
   "execution_count": 11,
   "metadata": {
    "collapsed": false
   },
   "outputs": [
    {
     "name": "stdout",
     "output_type": "stream",
     "text": [
      "                            OLS Regression Results                            \n",
      "==============================================================================\n",
      "Dep. Variable:           pcinc_co_log   R-squared:                       0.030\n",
      "Model:                            OLS   Adj. R-squared:                  0.019\n",
      "Method:                 Least Squares   F-statistic:                     2.795\n",
      "Date:                Tue, 27 Dec 2016   Prob (F-statistic):             0.0638\n",
      "Time:                        22:52:20   Log-Likelihood:                 79.312\n",
      "No. Observations:                 182   AIC:                            -152.6\n",
      "Df Residuals:                     179   BIC:                            -143.0\n",
      "Df Model:                           2                                         \n",
      "Covariance Type:            nonrobust                                         \n",
      "==============================================================================\n",
      "                 coef    std err          t      P>|t|      [95.0% Conf. Int.]\n",
      "------------------------------------------------------------------------------\n",
      "Intercept      9.8388      0.019    516.664      0.000         9.801     9.876\n",
      "FC            -0.0418      0.025     -1.644      0.102        -0.092     0.008\n",
      "HC            -0.0331      0.030     -1.089      0.278        -0.093     0.027\n",
      "==============================================================================\n",
      "Omnibus:                        0.384   Durbin-Watson:                   2.185\n",
      "Prob(Omnibus):                  0.825   Jarque-Bera (JB):                0.307\n",
      "Skew:                          -0.101   Prob(JB):                        0.858\n",
      "Kurtosis:                       2.995   Cond. No.                         3.50\n",
      "==============================================================================\n",
      "\n",
      "Warnings:\n",
      "[1] Standard Errors assume that the covariance matrix of the errors is correctly specified.\n"
     ]
    }
   ],
   "source": [
    "res = sm.ols(formula='pcinc_co_log ~ FC + HC', data=dat).fit()\n",
    "print(res.summary())"
   ]
  },
  {
   "cell_type": "code",
   "execution_count": null,
   "metadata": {
    "collapsed": true
   },
   "outputs": [],
   "source": []
  },
  {
   "cell_type": "code",
   "execution_count": null,
   "metadata": {
    "collapsed": true
   },
   "outputs": [],
   "source": []
  }
 ],
 "metadata": {
  "kernelspec": {
   "display_name": "Python 2",
   "language": "python",
   "name": "python2"
  },
  "language_info": {
   "codemirror_mode": {
    "name": "ipython",
    "version": 2
   },
   "file_extension": ".py",
   "mimetype": "text/x-python",
   "name": "python",
   "nbconvert_exporter": "python",
   "pygments_lexer": "ipython2",
   "version": "2.7.12"
  }
 },
 "nbformat": 4,
 "nbformat_minor": 2
}
