{
 "cells": [
  {
   "cell_type": "code",
   "execution_count": 2,
   "metadata": {
    "collapsed": false
   },
   "outputs": [],
   "source": [
    "import pandas as pd\n",
    "import matplotlib.pyplot as plt\n",
    "import seaborn as sns\n",
    "import statsmodels.formula.api as sm\n",
    "import numpy as np \n",
    "\n",
    "%matplotlib inline"
   ]
  },
  {
   "cell_type": "markdown",
   "metadata": {},
   "source": [
    "### Table 2"
   ]
  },
  {
   "cell_type": "markdown",
   "metadata": {},
   "source": [
    "Load data from file"
   ]
  },
  {
   "cell_type": "code",
   "execution_count": 3,
   "metadata": {
    "collapsed": true
   },
   "outputs": [],
   "source": [
    "dat = pd.read_pickle('indian2000.df')"
   ]
  },
  {
   "cell_type": "markdown",
   "metadata": {},
   "source": [
    "Try some stuff"
   ]
  },
  {
   "cell_type": "code",
   "execution_count": 4,
   "metadata": {
    "collapsed": false
   },
   "outputs": [
    {
     "name": "stdout",
     "output_type": "stream",
     "text": [
      "                            OLS Regression Results                            \n",
      "==============================================================================\n",
      "Dep. Variable:           pcinc_co_log   R-squared:                       0.024\n",
      "Model:                            OLS   Adj. R-squared:                  0.018\n",
      "Method:                 Least Squares   F-statistic:                     4.399\n",
      "Date:                Tue, 03 Jan 2017   Prob (F-statistic):             0.0373\n",
      "Time:                        14:45:02   Log-Likelihood:                 78.711\n",
      "No. Observations:                 182   AIC:                            -153.4\n",
      "Df Residuals:                     180   BIC:                            -147.0\n",
      "Df Model:                           1                                         \n",
      "Covariance Type:            nonrobust                                         \n",
      "==============================================================================\n",
      "                 coef    std err          t      P>|t|      [95.0% Conf. Int.]\n",
      "------------------------------------------------------------------------------\n",
      "Intercept      9.8374      0.019    517.566      0.000         9.800     9.875\n",
      "FC            -0.0506      0.024     -2.097      0.037        -0.098    -0.003\n",
      "==============================================================================\n",
      "Omnibus:                        0.113   Durbin-Watson:                   2.175\n",
      "Prob(Omnibus):                  0.945   Jarque-Bera (JB):                0.043\n",
      "Skew:                          -0.038   Prob(JB):                        0.979\n",
      "Kurtosis:                       3.003   Cond. No.                         3.01\n",
      "==============================================================================\n",
      "\n",
      "Warnings:\n",
      "[1] Standard Errors assume that the covariance matrix of the errors is correctly specified.\n"
     ]
    }
   ],
   "source": [
    "res = sm.ols(formula='pcinc_co_log ~ FC', data=dat.loc[dat['year'] == 2000]).fit()\n",
    "print(res.summary())"
   ]
  },
  {
   "cell_type": "code",
   "execution_count": 5,
   "metadata": {
    "collapsed": false
   },
   "outputs": [
    {
     "name": "stdout",
     "output_type": "stream",
     "text": [
      "                            OLS Regression Results                            \n",
      "==============================================================================\n",
      "Dep. Variable:           pcinc_co_log   R-squared:                       0.030\n",
      "Model:                            OLS   Adj. R-squared:                  0.019\n",
      "Method:                 Least Squares   F-statistic:                     2.795\n",
      "Date:                Tue, 03 Jan 2017   Prob (F-statistic):             0.0638\n",
      "Time:                        14:45:03   Log-Likelihood:                 79.312\n",
      "No. Observations:                 182   AIC:                            -152.6\n",
      "Df Residuals:                     179   BIC:                            -143.0\n",
      "Df Model:                           2                                         \n",
      "Covariance Type:            nonrobust                                         \n",
      "==============================================================================\n",
      "                 coef    std err          t      P>|t|      [95.0% Conf. Int.]\n",
      "------------------------------------------------------------------------------\n",
      "Intercept      9.8388      0.019    516.664      0.000         9.801     9.876\n",
      "FC            -0.0418      0.025     -1.644      0.102        -0.092     0.008\n",
      "HC            -0.0331      0.030     -1.089      0.278        -0.093     0.027\n",
      "==============================================================================\n",
      "Omnibus:                        0.384   Durbin-Watson:                   2.185\n",
      "Prob(Omnibus):                  0.825   Jarque-Bera (JB):                0.307\n",
      "Skew:                          -0.101   Prob(JB):                        0.858\n",
      "Kurtosis:                       2.995   Cond. No.                         3.50\n",
      "==============================================================================\n",
      "\n",
      "Warnings:\n",
      "[1] Standard Errors assume that the covariance matrix of the errors is correctly specified.\n"
     ]
    }
   ],
   "source": [
    "res = sm.ols(formula='pcinc_co_log ~ FC + HC', data=dat.loc[dat['year'] == 2000]).fit()\n",
    "print(res.summary())"
   ]
  },
  {
   "cell_type": "code",
   "execution_count": 6,
   "metadata": {
    "collapsed": false
   },
   "outputs": [
    {
     "name": "stdout",
     "output_type": "stream",
     "text": [
      "                            OLS Regression Results                            \n",
      "==============================================================================\n",
      "Dep. Variable:          unempl_co_log   R-squared:                       0.003\n",
      "Model:                            OLS   Adj. R-squared:                 -0.003\n",
      "Method:                 Least Squares   F-statistic:                    0.5346\n",
      "Date:                Tue, 03 Jan 2017   Prob (F-statistic):              0.466\n",
      "Time:                        14:45:03   Log-Likelihood:                -6.2177\n",
      "No. Observations:                 182   AIC:                             16.44\n",
      "Df Residuals:                     180   BIC:                             22.84\n",
      "Df Model:                           1                                         \n",
      "Covariance Type:            nonrobust                                         \n",
      "==============================================================================\n",
      "                 coef    std err          t      P>|t|      [95.0% Conf. Int.]\n",
      "------------------------------------------------------------------------------\n",
      "Intercept      1.4010      0.030     46.223      0.000         1.341     1.461\n",
      "FC            -0.0281      0.038     -0.731      0.466        -0.104     0.048\n",
      "==============================================================================\n",
      "Omnibus:                        9.528   Durbin-Watson:                   1.960\n",
      "Prob(Omnibus):                  0.009   Jarque-Bera (JB):               12.174\n",
      "Skew:                          -0.361   Prob(JB):                      0.00227\n",
      "Kurtosis:                       4.041   Cond. No.                         3.01\n",
      "==============================================================================\n",
      "\n",
      "Warnings:\n",
      "[1] Standard Errors assume that the covariance matrix of the errors is correctly specified.\n"
     ]
    }
   ],
   "source": [
    "res = sm.ols(formula='unempl_co_log ~ FC ', data=dat.loc[dat['year'] == 2000]).fit()\n",
    "print(res.summary())"
   ]
  },
  {
   "cell_type": "code",
   "execution_count": 7,
   "metadata": {
    "collapsed": false
   },
   "outputs": [
    {
     "name": "stdout",
     "output_type": "stream",
     "text": [
      "                            OLS Regression Results                            \n",
      "==============================================================================\n",
      "Dep. Variable:          unempl_co_log   R-squared:                       0.025\n",
      "Model:                            OLS   Adj. R-squared:                  0.014\n",
      "Method:                 Least Squares   F-statistic:                     2.269\n",
      "Date:                Tue, 03 Jan 2017   Prob (F-statistic):              0.106\n",
      "Time:                        14:45:03   Log-Likelihood:                -4.2090\n",
      "No. Observations:                 182   AIC:                             14.42\n",
      "Df Residuals:                     179   BIC:                             24.03\n",
      "Df Model:                           2                                         \n",
      "Covariance Type:            nonrobust                                         \n",
      "==============================================================================\n",
      "                 coef    std err          t      P>|t|      [95.0% Conf. Int.]\n",
      "------------------------------------------------------------------------------\n",
      "Intercept      1.4051      0.030     46.632      0.000         1.346     1.465\n",
      "FC            -0.0026      0.040     -0.064      0.949        -0.082     0.077\n",
      "HC            -0.0960      0.048     -1.999      0.047        -0.191    -0.001\n",
      "==============================================================================\n",
      "Omnibus:                       11.163   Durbin-Watson:                   1.980\n",
      "Prob(Omnibus):                  0.004   Jarque-Bera (JB):               14.670\n",
      "Skew:                          -0.409   Prob(JB):                     0.000652\n",
      "Kurtosis:                       4.125   Cond. No.                         3.50\n",
      "==============================================================================\n",
      "\n",
      "Warnings:\n",
      "[1] Standard Errors assume that the covariance matrix of the errors is correctly specified.\n"
     ]
    }
   ],
   "source": [
    "res = sm.ols(formula='unempl_co_log ~ FC + HC', data=dat.loc[dat['year'] == 2000]).fit()\n",
    "print(res.summary())"
   ]
  },
  {
   "cell_type": "code",
   "execution_count": 8,
   "metadata": {
    "collapsed": false
   },
   "outputs": [
    {
     "name": "stdout",
     "output_type": "stream",
     "text": [
      "                            OLS Regression Results                            \n",
      "==============================================================================\n",
      "Dep. Variable:                logdist   R-squared:                       0.002\n",
      "Model:                            OLS   Adj. R-squared:                 -0.004\n",
      "Method:                 Least Squares   F-statistic:                    0.2833\n",
      "Date:                Tue, 03 Jan 2017   Prob (F-statistic):              0.595\n",
      "Time:                        14:45:03   Log-Likelihood:                -261.75\n",
      "No. Observations:                 182   AIC:                             527.5\n",
      "Df Residuals:                     180   BIC:                             533.9\n",
      "Df Model:                           1                                         \n",
      "Covariance Type:            nonrobust                                         \n",
      "==============================================================================\n",
      "                 coef    std err          t      P>|t|      [95.0% Conf. Int.]\n",
      "------------------------------------------------------------------------------\n",
      "Intercept      3.5228      0.123     28.546      0.000         3.279     3.766\n",
      "FC             0.0834      0.157      0.532      0.595        -0.226     0.392\n",
      "==============================================================================\n",
      "Omnibus:                       14.617   Durbin-Watson:                   1.965\n",
      "Prob(Omnibus):                  0.001   Jarque-Bera (JB):               15.976\n",
      "Skew:                          -0.718   Prob(JB):                     0.000340\n",
      "Kurtosis:                       3.205   Cond. No.                         3.01\n",
      "==============================================================================\n",
      "\n",
      "Warnings:\n",
      "[1] Standard Errors assume that the covariance matrix of the errors is correctly specified.\n"
     ]
    }
   ],
   "source": [
    "res = sm.ols(formula='logdist ~ FC', data=dat.loc[dat['year'] == 2000]).fit()\n",
    "print(res.summary())"
   ]
  },
  {
   "cell_type": "code",
   "execution_count": 9,
   "metadata": {
    "collapsed": false
   },
   "outputs": [
    {
     "name": "stdout",
     "output_type": "stream",
     "text": [
      "                            OLS Regression Results                            \n",
      "==============================================================================\n",
      "Dep. Variable:                logdist   R-squared:                       0.002\n",
      "Model:                            OLS   Adj. R-squared:                 -0.009\n",
      "Method:                 Least Squares   F-statistic:                    0.1654\n",
      "Date:                Tue, 03 Jan 2017   Prob (F-statistic):              0.848\n",
      "Time:                        14:45:03   Log-Likelihood:                -261.73\n",
      "No. Observations:                 182   AIC:                             529.5\n",
      "Df Residuals:                     179   BIC:                             539.1\n",
      "Df Model:                           2                                         \n",
      "Covariance Type:            nonrobust                                         \n",
      "==============================================================================\n",
      "                 coef    std err          t      P>|t|      [95.0% Conf. Int.]\n",
      "------------------------------------------------------------------------------\n",
      "Intercept      3.5209      0.124     28.387      0.000         3.276     3.766\n",
      "FC             0.0717      0.166      0.433      0.666        -0.255     0.399\n",
      "HC             0.0438      0.198      0.221      0.825        -0.346     0.434\n",
      "==============================================================================\n",
      "Omnibus:                       14.282   Durbin-Watson:                   1.965\n",
      "Prob(Omnibus):                  0.001   Jarque-Bera (JB):               15.568\n",
      "Skew:                          -0.710   Prob(JB):                     0.000416\n",
      "Kurtosis:                       3.188   Cond. No.                         3.50\n",
      "==============================================================================\n",
      "\n",
      "Warnings:\n",
      "[1] Standard Errors assume that the covariance matrix of the errors is correctly specified.\n"
     ]
    }
   ],
   "source": [
    "res = sm.ols(formula='logdist ~ FC + HC', data=dat.loc[dat['year'] == 2000]).fit()\n",
    "print(res.summary())"
   ]
  },
  {
   "cell_type": "code",
   "execution_count": 10,
   "metadata": {
    "collapsed": false
   },
   "outputs": [
    {
     "name": "stdout",
     "output_type": "stream",
     "text": [
      "                            OLS Regression Results                            \n",
      "==============================================================================\n",
      "Dep. Variable:          logruggedness   R-squared:                       0.003\n",
      "Model:                            OLS   Adj. R-squared:                 -0.003\n",
      "Method:                 Least Squares   F-statistic:                    0.4913\n",
      "Date:                Tue, 03 Jan 2017   Prob (F-statistic):              0.484\n",
      "Time:                        14:45:03   Log-Likelihood:                -306.41\n",
      "No. Observations:                 182   AIC:                             616.8\n",
      "Df Residuals:                     180   BIC:                             623.2\n",
      "Df Model:                           1                                         \n",
      "Covariance Type:            nonrobust                                         \n",
      "==============================================================================\n",
      "                 coef    std err          t      P>|t|      [95.0% Conf. Int.]\n",
      "------------------------------------------------------------------------------\n",
      "Intercept     -1.3414      0.158     -8.505      0.000        -1.653    -1.030\n",
      "FC            -0.1403      0.200     -0.701      0.484        -0.535     0.255\n",
      "==============================================================================\n",
      "Omnibus:                        6.231   Durbin-Watson:                   1.735\n",
      "Prob(Omnibus):                  0.044   Jarque-Bera (JB):                9.258\n",
      "Skew:                          -0.123   Prob(JB):                      0.00977\n",
      "Kurtosis:                       4.077   Cond. No.                         3.01\n",
      "==============================================================================\n",
      "\n",
      "Warnings:\n",
      "[1] Standard Errors assume that the covariance matrix of the errors is correctly specified.\n"
     ]
    }
   ],
   "source": [
    "res = sm.ols(formula='logruggedness ~ FC', data=dat.loc[dat['year'] == 2000]).fit()\n",
    "print(res.summary())"
   ]
  },
  {
   "cell_type": "code",
   "execution_count": 11,
   "metadata": {
    "collapsed": false
   },
   "outputs": [
    {
     "name": "stdout",
     "output_type": "stream",
     "text": [
      "                            OLS Regression Results                            \n",
      "==============================================================================\n",
      "Dep. Variable:          logruggedness   R-squared:                       0.066\n",
      "Model:                            OLS   Adj. R-squared:                  0.055\n",
      "Method:                 Least Squares   F-statistic:                     6.277\n",
      "Date:                Tue, 03 Jan 2017   Prob (F-statistic):            0.00232\n",
      "Time:                        14:45:04   Log-Likelihood:                -300.49\n",
      "No. Observations:                 182   AIC:                             607.0\n",
      "Df Residuals:                     179   BIC:                             616.6\n",
      "Df Model:                           2                                         \n",
      "Covariance Type:            nonrobust                                         \n",
      "==============================================================================\n",
      "                 coef    std err          t      P>|t|      [95.0% Conf. Int.]\n",
      "------------------------------------------------------------------------------\n",
      "Intercept     -1.3045      0.153     -8.500      0.000        -1.607    -1.002\n",
      "FC             0.0856      0.205      0.418      0.677        -0.319     0.490\n",
      "HC            -0.8486      0.245     -3.469      0.001        -1.331    -0.366\n",
      "==============================================================================\n",
      "Omnibus:                        5.446   Durbin-Watson:                   1.764\n",
      "Prob(Omnibus):                  0.066   Jarque-Bera (JB):                7.607\n",
      "Skew:                          -0.106   Prob(JB):                       0.0223\n",
      "Kurtosis:                       3.979   Cond. No.                         3.50\n",
      "==============================================================================\n",
      "\n",
      "Warnings:\n",
      "[1] Standard Errors assume that the covariance matrix of the errors is correctly specified.\n"
     ]
    }
   ],
   "source": [
    "res = sm.ols(formula='logruggedness ~ FC + HC', data=dat.loc[dat['year'] == 2000]).fit()\n",
    "print(res.summary())"
   ]
  },
  {
   "cell_type": "code",
   "execution_count": 12,
   "metadata": {
    "collapsed": false
   },
   "outputs": [
    {
     "name": "stdout",
     "output_type": "stream",
     "text": [
      "                            OLS Regression Results                            \n",
      "==============================================================================\n",
      "Dep. Variable:        logresarea_sqkm   R-squared:                       0.001\n",
      "Model:                            OLS   Adj. R-squared:                 -0.005\n",
      "Method:                 Least Squares   F-statistic:                    0.1655\n",
      "Date:                Tue, 03 Jan 2017   Prob (F-statistic):              0.685\n",
      "Time:                        14:45:04   Log-Likelihood:                -453.11\n",
      "No. Observations:                 182   AIC:                             910.2\n",
      "Df Residuals:                     180   BIC:                             916.6\n",
      "Df Model:                           1                                         \n",
      "Covariance Type:            nonrobust                                         \n",
      "==============================================================================\n",
      "                 coef    std err          t      P>|t|      [95.0% Conf. Int.]\n",
      "------------------------------------------------------------------------------\n",
      "Intercept      4.2595      0.353     12.061      0.000         3.563     4.956\n",
      "FC             0.1823      0.448      0.407      0.685        -0.702     1.067\n",
      "==============================================================================\n",
      "Omnibus:                        5.309   Durbin-Watson:                   2.158\n",
      "Prob(Omnibus):                  0.070   Jarque-Bera (JB):                4.097\n",
      "Skew:                          -0.251   Prob(JB):                        0.129\n",
      "Kurtosis:                       2.463   Cond. No.                         3.01\n",
      "==============================================================================\n",
      "\n",
      "Warnings:\n",
      "[1] Standard Errors assume that the covariance matrix of the errors is correctly specified.\n"
     ]
    }
   ],
   "source": [
    "res = sm.ols(formula='logresarea_sqkm ~ FC', data=dat.loc[dat['year'] == 2000]).fit()\n",
    "print(res.summary())"
   ]
  },
  {
   "cell_type": "code",
   "execution_count": 13,
   "metadata": {
    "collapsed": false
   },
   "outputs": [
    {
     "name": "stdout",
     "output_type": "stream",
     "text": [
      "                            OLS Regression Results                            \n",
      "==============================================================================\n",
      "Dep. Variable:        logresarea_sqkm   R-squared:                       0.001\n",
      "Model:                            OLS   Adj. R-squared:                 -0.010\n",
      "Method:                 Least Squares   F-statistic:                    0.1109\n",
      "Date:                Tue, 03 Jan 2017   Prob (F-statistic):              0.895\n",
      "Time:                        14:45:04   Log-Likelihood:                -453.08\n",
      "No. Observations:                 182   AIC:                             912.2\n",
      "Df Residuals:                     179   BIC:                             921.8\n",
      "Df Model:                           2                                         \n",
      "Covariance Type:            nonrobust                                         \n",
      "==============================================================================\n",
      "                 coef    std err          t      P>|t|      [95.0% Conf. Int.]\n",
      "------------------------------------------------------------------------------\n",
      "Intercept      4.2653      0.355     12.017      0.000         3.565     4.966\n",
      "FC             0.2184      0.474      0.461      0.646        -0.717     1.154\n",
      "HC            -0.1354      0.566     -0.239      0.811        -1.252     0.981\n",
      "==============================================================================\n",
      "Omnibus:                        5.802   Durbin-Watson:                   2.160\n",
      "Prob(Omnibus):                  0.055   Jarque-Bera (JB):                4.320\n",
      "Skew:                          -0.253   Prob(JB):                        0.115\n",
      "Kurtosis:                       2.440   Cond. No.                         3.50\n",
      "==============================================================================\n",
      "\n",
      "Warnings:\n",
      "[1] Standard Errors assume that the covariance matrix of the errors is correctly specified.\n"
     ]
    }
   ],
   "source": [
    "res = sm.ols(formula='logresarea_sqkm ~ FC + HC', data=dat.loc[dat['year'] == 2000]).fit()\n",
    "print(res.summary())"
   ]
  },
  {
   "cell_type": "code",
   "execution_count": 14,
   "metadata": {
    "collapsed": false
   },
   "outputs": [
    {
     "name": "stdout",
     "output_type": "stream",
     "text": [
      "                            OLS Regression Results                            \n",
      "==============================================================================\n",
      "Dep. Variable:                     HC   R-squared:                       0.101\n",
      "Model:                            OLS   Adj. R-squared:                  0.096\n",
      "Method:                 Least Squares   F-statistic:                     20.23\n",
      "Date:                Tue, 03 Jan 2017   Prob (F-statistic):           1.23e-05\n",
      "Time:                        14:45:04   Log-Likelihood:                -84.701\n",
      "No. Observations:                 182   AIC:                             173.4\n",
      "Df Residuals:                     180   BIC:                             179.8\n",
      "Df Model:                           1                                         \n",
      "Covariance Type:            nonrobust                                         \n",
      "==============================================================================\n",
      "                 coef    std err          t      P>|t|      [95.0% Conf. Int.]\n",
      "------------------------------------------------------------------------------\n",
      "Intercept      0.0435      0.047      0.932      0.353        -0.049     0.136\n",
      "FC             0.2663      0.059      4.497      0.000         0.149     0.383\n",
      "==============================================================================\n",
      "Omnibus:                       29.001   Durbin-Watson:                   1.956\n",
      "Prob(Omnibus):                  0.000   Jarque-Bera (JB):               39.371\n",
      "Skew:                           1.134   Prob(JB):                     2.82e-09\n",
      "Kurtosis:                       2.784   Cond. No.                         3.01\n",
      "==============================================================================\n",
      "\n",
      "Warnings:\n",
      "[1] Standard Errors assume that the covariance matrix of the errors is correctly specified.\n"
     ]
    }
   ],
   "source": [
    "res = sm.ols(formula='HC ~ FC', data=dat.loc[dat['year'] == 2000]).fit()\n",
    "print(res.summary())"
   ]
  },
  {
   "cell_type": "code",
   "execution_count": 15,
   "metadata": {
    "collapsed": false
   },
   "outputs": [
    {
     "name": "stdout",
     "output_type": "stream",
     "text": [
      "                            OLS Regression Results                            \n",
      "==============================================================================\n",
      "Dep. Variable:                  ea_v5   R-squared:                       0.037\n",
      "Model:                            OLS   Adj. R-squared:                  0.032\n",
      "Method:                 Least Squares   F-statistic:                     6.892\n",
      "Date:                Tue, 03 Jan 2017   Prob (F-statistic):            0.00940\n",
      "Time:                        14:45:04   Log-Likelihood:                -427.36\n",
      "No. Observations:                 182   AIC:                             858.7\n",
      "Df Residuals:                     180   BIC:                             865.1\n",
      "Df Model:                           1                                         \n",
      "Covariance Type:            nonrobust                                         \n",
      "==============================================================================\n",
      "                 coef    std err          t      P>|t|      [95.0% Conf. Int.]\n",
      "------------------------------------------------------------------------------\n",
      "Intercept      2.6232      0.307      8.557      0.000         2.018     3.228\n",
      "FC            -1.0214      0.389     -2.625      0.009        -1.789    -0.254\n",
      "==============================================================================\n",
      "Omnibus:                       29.180   Durbin-Watson:                   1.688\n",
      "Prob(Omnibus):                  0.000   Jarque-Bera (JB):               38.670\n",
      "Skew:                           1.122   Prob(JB):                     4.01e-09\n",
      "Kurtosis:                       3.254   Cond. No.                         3.01\n",
      "==============================================================================\n",
      "\n",
      "Warnings:\n",
      "[1] Standard Errors assume that the covariance matrix of the errors is correctly specified.\n"
     ]
    }
   ],
   "source": [
    "res = sm.ols(formula='ea_v5 ~ FC', data=dat.loc[dat['year'] == 2000]).fit()\n",
    "print(res.summary())"
   ]
  },
  {
   "cell_type": "code",
   "execution_count": 16,
   "metadata": {
    "collapsed": false
   },
   "outputs": [
    {
     "name": "stdout",
     "output_type": "stream",
     "text": [
      "                            OLS Regression Results                            \n",
      "==============================================================================\n",
      "Dep. Variable:                  ea_v5   R-squared:                       0.096\n",
      "Model:                            OLS   Adj. R-squared:                  0.086\n",
      "Method:                 Least Squares   F-statistic:                     9.522\n",
      "Date:                Tue, 03 Jan 2017   Prob (F-statistic):           0.000118\n",
      "Time:                        14:45:05   Log-Likelihood:                -421.58\n",
      "No. Observations:                 182   AIC:                             849.2\n",
      "Df Residuals:                     179   BIC:                             858.8\n",
      "Df Model:                           2                                         \n",
      "Covariance Type:            nonrobust                                         \n",
      "==============================================================================\n",
      "                 coef    std err          t      P>|t|      [95.0% Conf. Int.]\n",
      "------------------------------------------------------------------------------\n",
      "Intercept      2.5523      0.299      8.550      0.000         1.963     3.141\n",
      "FC            -1.4555      0.399     -3.651      0.000        -2.242    -0.669\n",
      "HC             1.6304      0.476      3.426      0.001         0.691     2.569\n",
      "==============================================================================\n",
      "Omnibus:                       36.857   Durbin-Watson:                   1.696\n",
      "Prob(Omnibus):                  0.000   Jarque-Bera (JB):               51.853\n",
      "Skew:                           1.239   Prob(JB):                     5.50e-12\n",
      "Kurtosis:                       3.836   Cond. No.                         3.50\n",
      "==============================================================================\n",
      "\n",
      "Warnings:\n",
      "[1] Standard Errors assume that the covariance matrix of the errors is correctly specified.\n"
     ]
    }
   ],
   "source": [
    "res = sm.ols(formula='ea_v5 ~ FC + HC', data=dat.loc[dat['year'] == 2000]).fit()\n",
    "print(res.summary())"
   ]
  },
  {
   "cell_type": "code",
   "execution_count": 17,
   "metadata": {
    "collapsed": false
   },
   "outputs": [
    {
     "name": "stdout",
     "output_type": "stream",
     "text": [
      "                            OLS Regression Results                            \n",
      "==============================================================================\n",
      "Dep. Variable:                 ea_v30   R-squared:                       0.005\n",
      "Model:                            OLS   Adj. R-squared:                 -0.000\n",
      "Method:                 Least Squares   F-statistic:                    0.9130\n",
      "Date:                Tue, 03 Jan 2017   Prob (F-statistic):              0.341\n",
      "Time:                        14:45:05   Log-Likelihood:                -382.15\n",
      "No. Observations:                 182   AIC:                             768.3\n",
      "Df Residuals:                     180   BIC:                             774.7\n",
      "Df Model:                           1                                         \n",
      "Covariance Type:            nonrobust                                         \n",
      "==============================================================================\n",
      "                 coef    std err          t      P>|t|      [95.0% Conf. Int.]\n",
      "------------------------------------------------------------------------------\n",
      "Intercept      3.4493      0.239     14.424      0.000         2.977     3.921\n",
      "FC            -0.2900      0.303     -0.956      0.341        -0.889     0.309\n",
      "==============================================================================\n",
      "Omnibus:                       30.402   Durbin-Watson:                   1.918\n",
      "Prob(Omnibus):                  0.000   Jarque-Bera (JB):               41.766\n",
      "Skew:                           1.165   Prob(JB):                     8.52e-10\n",
      "Kurtosis:                       2.725   Cond. No.                         3.01\n",
      "==============================================================================\n",
      "\n",
      "Warnings:\n",
      "[1] Standard Errors assume that the covariance matrix of the errors is correctly specified.\n"
     ]
    }
   ],
   "source": [
    "res = sm.ols(formula='ea_v30 ~ FC', data=dat.loc[dat['year'] == 2000]).fit()\n",
    "print(res.summary())"
   ]
  },
  {
   "cell_type": "code",
   "execution_count": 18,
   "metadata": {
    "collapsed": false
   },
   "outputs": [
    {
     "name": "stdout",
     "output_type": "stream",
     "text": [
      "                            OLS Regression Results                            \n",
      "==============================================================================\n",
      "Dep. Variable:                 ea_v30   R-squared:                       0.062\n",
      "Model:                            OLS   Adj. R-squared:                  0.051\n",
      "Method:                 Least Squares   F-statistic:                     5.891\n",
      "Date:                Tue, 03 Jan 2017   Prob (F-statistic):            0.00333\n",
      "Time:                        14:45:05   Log-Likelihood:                -376.81\n",
      "No. Observations:                 182   AIC:                             759.6\n",
      "Df Residuals:                     179   BIC:                             769.2\n",
      "Df Model:                           2                                         \n",
      "Covariance Type:            nonrobust                                         \n",
      "==============================================================================\n",
      "                 coef    std err          t      P>|t|      [95.0% Conf. Int.]\n",
      "------------------------------------------------------------------------------\n",
      "Intercept      3.3961      0.233     14.549      0.000         2.935     3.857\n",
      "FC            -0.6158      0.312     -1.976      0.050        -1.231    -0.001\n",
      "HC             1.2238      0.372      3.289      0.001         0.490     1.958\n",
      "==============================================================================\n",
      "Omnibus:                       25.982   Durbin-Watson:                   1.927\n",
      "Prob(Omnibus):                  0.000   Jarque-Bera (JB):               34.046\n",
      "Skew:                           1.057   Prob(JB):                     4.05e-08\n",
      "Kurtosis:                       2.862   Cond. No.                         3.50\n",
      "==============================================================================\n",
      "\n",
      "Warnings:\n",
      "[1] Standard Errors assume that the covariance matrix of the errors is correctly specified.\n"
     ]
    }
   ],
   "source": [
    "res = sm.ols(formula='ea_v30 ~ FC + HC', data=dat.loc[dat['year'] == 2000]).fit()\n",
    "print(res.summary())"
   ]
  },
  {
   "cell_type": "code",
   "execution_count": 19,
   "metadata": {
    "collapsed": false
   },
   "outputs": [
    {
     "name": "stdout",
     "output_type": "stream",
     "text": [
      "                            OLS Regression Results                            \n",
      "==============================================================================\n",
      "Dep. Variable:                 ea_v32   R-squared:                       0.006\n",
      "Model:                            OLS   Adj. R-squared:                  0.000\n",
      "Method:                 Least Squares   F-statistic:                     1.028\n",
      "Date:                Tue, 03 Jan 2017   Prob (F-statistic):              0.312\n",
      "Time:                        14:45:05   Log-Likelihood:                -125.57\n",
      "No. Observations:                 182   AIC:                             255.1\n",
      "Df Residuals:                     180   BIC:                             261.5\n",
      "Df Model:                           1                                         \n",
      "Covariance Type:            nonrobust                                         \n",
      "==============================================================================\n",
      "                 coef    std err          t      P>|t|      [95.0% Conf. Int.]\n",
      "------------------------------------------------------------------------------\n",
      "Intercept      2.5797      0.058     44.177      0.000         2.464     2.695\n",
      "FC             0.0752      0.074      1.014      0.312        -0.071     0.221\n",
      "==============================================================================\n",
      "Omnibus:                        7.893   Durbin-Watson:                   1.786\n",
      "Prob(Omnibus):                  0.019   Jarque-Bera (JB):               30.240\n",
      "Skew:                          -0.518   Prob(JB):                     2.71e-07\n",
      "Kurtosis:                       1.293   Cond. No.                         3.01\n",
      "==============================================================================\n",
      "\n",
      "Warnings:\n",
      "[1] Standard Errors assume that the covariance matrix of the errors is correctly specified.\n"
     ]
    }
   ],
   "source": [
    "res = sm.ols(formula='ea_v32 ~ FC', data=dat.loc[dat['year'] == 2000]).fit()\n",
    "print(res.summary())"
   ]
  },
  {
   "cell_type": "code",
   "execution_count": 20,
   "metadata": {
    "collapsed": false
   },
   "outputs": [
    {
     "name": "stdout",
     "output_type": "stream",
     "text": [
      "                            OLS Regression Results                            \n",
      "==============================================================================\n",
      "Dep. Variable:                 ea_v32   R-squared:                       0.041\n",
      "Model:                            OLS   Adj. R-squared:                  0.030\n",
      "Method:                 Least Squares   F-statistic:                     3.788\n",
      "Date:                Tue, 03 Jan 2017   Prob (F-statistic):             0.0245\n",
      "Time:                        14:45:06   Log-Likelihood:                -122.31\n",
      "No. Observations:                 182   AIC:                             250.6\n",
      "Df Residuals:                     179   BIC:                             260.2\n",
      "Df Model:                           2                                         \n",
      "Covariance Type:            nonrobust                                         \n",
      "==============================================================================\n",
      "                 coef    std err          t      P>|t|      [95.0% Conf. Int.]\n",
      "------------------------------------------------------------------------------\n",
      "Intercept      2.5695      0.058     44.564      0.000         2.456     2.683\n",
      "FC             0.0127      0.077      0.165      0.869        -0.139     0.165\n",
      "HC             0.2346      0.092      2.553      0.012         0.053     0.416\n",
      "==============================================================================\n",
      "Omnibus:                        6.448   Durbin-Watson:                   1.796\n",
      "Prob(Omnibus):                  0.040   Jarque-Bera (JB):               26.730\n",
      "Skew:                          -0.464   Prob(JB):                     1.57e-06\n",
      "Kurtosis:                       1.368   Cond. No.                         3.50\n",
      "==============================================================================\n",
      "\n",
      "Warnings:\n",
      "[1] Standard Errors assume that the covariance matrix of the errors is correctly specified.\n"
     ]
    }
   ],
   "source": [
    "res = sm.ols(formula='ea_v32 ~ FC + HC', data=dat.loc[dat['year'] == 2000]).fit()\n",
    "print(res.summary())"
   ]
  },
  {
   "cell_type": "code",
   "execution_count": 21,
   "metadata": {
    "collapsed": false
   },
   "outputs": [
    {
     "name": "stdout",
     "output_type": "stream",
     "text": [
      "                            OLS Regression Results                            \n",
      "==============================================================================\n",
      "Dep. Variable:                 ea_v66   R-squared:                       0.025\n",
      "Model:                            OLS   Adj. R-squared:                  0.019\n",
      "Method:                 Least Squares   F-statistic:                     4.541\n",
      "Date:                Tue, 03 Jan 2017   Prob (F-statistic):             0.0345\n",
      "Time:                        14:45:06   Log-Likelihood:                -178.73\n",
      "No. Observations:                 182   AIC:                             361.5\n",
      "Df Residuals:                     180   BIC:                             367.9\n",
      "Df Model:                           1                                         \n",
      "Covariance Type:            nonrobust                                         \n",
      "==============================================================================\n",
      "                 coef    std err          t      P>|t|      [95.0% Conf. Int.]\n",
      "------------------------------------------------------------------------------\n",
      "Intercept      1.1159      0.078     14.270      0.000         0.962     1.270\n",
      "FC             0.2115      0.099      2.131      0.034         0.016     0.407\n",
      "==============================================================================\n",
      "Omnibus:                      133.000   Durbin-Watson:                   1.659\n",
      "Prob(Omnibus):                  0.000   Jarque-Bera (JB):              897.117\n",
      "Skew:                           2.906   Prob(JB):                    1.56e-195\n",
      "Kurtosis:                      12.193   Cond. No.                         3.01\n",
      "==============================================================================\n",
      "\n",
      "Warnings:\n",
      "[1] Standard Errors assume that the covariance matrix of the errors is correctly specified.\n"
     ]
    }
   ],
   "source": [
    "res = sm.ols(formula='ea_v66 ~ FC', data=dat.loc[dat['year'] == 2000]).fit()\n",
    "print(res.summary())"
   ]
  },
  {
   "cell_type": "code",
   "execution_count": 22,
   "metadata": {
    "collapsed": false
   },
   "outputs": [
    {
     "name": "stdout",
     "output_type": "stream",
     "text": [
      "                            OLS Regression Results                            \n",
      "==============================================================================\n",
      "Dep. Variable:                 ea_v66   R-squared:                       0.080\n",
      "Model:                            OLS   Adj. R-squared:                  0.070\n",
      "Method:                 Least Squares   F-statistic:                     7.794\n",
      "Date:                Tue, 03 Jan 2017   Prob (F-statistic):           0.000568\n",
      "Time:                        14:45:06   Log-Likelihood:                -173.40\n",
      "No. Observations:                 182   AIC:                             352.8\n",
      "Df Residuals:                     179   BIC:                             362.4\n",
      "Df Model:                           2                                         \n",
      "Covariance Type:            nonrobust                                         \n",
      "==============================================================================\n",
      "                 coef    std err          t      P>|t|      [95.0% Conf. Int.]\n",
      "------------------------------------------------------------------------------\n",
      "Intercept      1.1333      0.076     14.846      0.000         0.983     1.284\n",
      "FC             0.3180      0.102      3.119      0.002         0.117     0.519\n",
      "HC            -0.3999      0.122     -3.286      0.001        -0.640    -0.160\n",
      "==============================================================================\n",
      "Omnibus:                      127.468   Durbin-Watson:                   1.714\n",
      "Prob(Omnibus):                  0.000   Jarque-Bera (JB):              809.027\n",
      "Skew:                           2.773   Prob(JB):                    2.10e-176\n",
      "Kurtosis:                      11.714   Cond. No.                         3.50\n",
      "==============================================================================\n",
      "\n",
      "Warnings:\n",
      "[1] Standard Errors assume that the covariance matrix of the errors is correctly specified.\n"
     ]
    }
   ],
   "source": [
    "res = sm.ols(formula='ea_v66 ~ FC + HC', data=dat.loc[dat['year'] == 2000]).fit()\n",
    "print(res.summary())"
   ]
  },
  {
   "cell_type": "code",
   "execution_count": 23,
   "metadata": {
    "collapsed": false
   },
   "outputs": [
    {
     "name": "stdout",
     "output_type": "stream",
     "text": [
      "                            OLS Regression Results                            \n",
      "==============================================================================\n",
      "Dep. Variable:                 logpop   R-squared:                       0.038\n",
      "Model:                            OLS   Adj. R-squared:                  0.032\n",
      "Method:                 Least Squares   F-statistic:                     7.062\n",
      "Date:                Tue, 03 Jan 2017   Prob (F-statistic):            0.00858\n",
      "Time:                        14:45:06   Log-Likelihood:                -295.60\n",
      "No. Observations:                 182   AIC:                             595.2\n",
      "Df Residuals:                     180   BIC:                             601.6\n",
      "Df Model:                           1                                         \n",
      "Covariance Type:            nonrobust                                         \n",
      "==============================================================================\n",
      "                 coef    std err          t      P>|t|      [95.0% Conf. Int.]\n",
      "------------------------------------------------------------------------------\n",
      "Intercept      6.4036      0.149     43.083      0.000         6.110     6.697\n",
      "FC             0.5013      0.189      2.658      0.009         0.129     0.874\n",
      "==============================================================================\n",
      "Omnibus:                       12.207   Durbin-Watson:                   2.141\n",
      "Prob(Omnibus):                  0.002   Jarque-Bera (JB):               12.769\n",
      "Skew:                           0.582   Prob(JB):                      0.00169\n",
      "Kurtosis:                       3.574   Cond. No.                         3.01\n",
      "==============================================================================\n",
      "\n",
      "Warnings:\n",
      "[1] Standard Errors assume that the covariance matrix of the errors is correctly specified.\n"
     ]
    }
   ],
   "source": [
    "res = sm.ols(formula='logpop ~ FC', data=dat.loc[dat['year'] == 2000]).fit()\n",
    "print(res.summary())"
   ]
  },
  {
   "cell_type": "code",
   "execution_count": 24,
   "metadata": {
    "collapsed": false
   },
   "outputs": [
    {
     "name": "stdout",
     "output_type": "stream",
     "text": [
      "                            OLS Regression Results                            \n",
      "==============================================================================\n",
      "Dep. Variable:                 logpop   R-squared:                       0.041\n",
      "Model:                            OLS   Adj. R-squared:                  0.031\n",
      "Method:                 Least Squares   F-statistic:                     3.848\n",
      "Date:                Tue, 03 Jan 2017   Prob (F-statistic):             0.0231\n",
      "Time:                        14:45:07   Log-Likelihood:                -295.28\n",
      "No. Observations:                 182   AIC:                             596.6\n",
      "Df Residuals:                     179   BIC:                             606.2\n",
      "Df Model:                           2                                         \n",
      "Covariance Type:            nonrobust                                         \n",
      "==============================================================================\n",
      "                 coef    std err          t      P>|t|      [95.0% Conf. Int.]\n",
      "------------------------------------------------------------------------------\n",
      "Intercept      6.3953      0.149     42.882      0.000         6.101     6.690\n",
      "FC             0.4504      0.199      2.262      0.025         0.057     0.843\n",
      "HC             0.1912      0.238      0.804      0.422        -0.278     0.660\n",
      "==============================================================================\n",
      "Omnibus:                       14.419   Durbin-Watson:                   2.158\n",
      "Prob(Omnibus):                  0.001   Jarque-Bera (JB):               15.681\n",
      "Skew:                           0.634   Prob(JB):                     0.000393\n",
      "Kurtosis:                       3.678   Cond. No.                         3.50\n",
      "==============================================================================\n",
      "\n",
      "Warnings:\n",
      "[1] Standard Errors assume that the covariance matrix of the errors is correctly specified.\n"
     ]
    }
   ],
   "source": [
    "res = sm.ols(formula='logpop ~ FC + HC', data=dat.loc[dat['year'] == 2000]).fit()\n",
    "print(res.summary())"
   ]
  },
  {
   "cell_type": "code",
   "execution_count": 25,
   "metadata": {
    "collapsed": false
   },
   "outputs": [
    {
     "name": "stdout",
     "output_type": "stream",
     "text": [
      "                            OLS Regression Results                            \n",
      "==============================================================================\n",
      "Dep. Variable:          popadultshare   R-squared:                       0.086\n",
      "Model:                            OLS   Adj. R-squared:                  0.081\n",
      "Method:                 Least Squares   F-statistic:                     17.04\n",
      "Date:                Tue, 03 Jan 2017   Prob (F-statistic):           5.58e-05\n",
      "Time:                        14:45:07   Log-Likelihood:                -568.86\n",
      "No. Observations:                 182   AIC:                             1142.\n",
      "Df Residuals:                     180   BIC:                             1148.\n",
      "Df Model:                           1                                         \n",
      "Covariance Type:            nonrobust                                         \n",
      "==============================================================================\n",
      "                 coef    std err          t      P>|t|      [95.0% Conf. Int.]\n",
      "------------------------------------------------------------------------------\n",
      "Intercept     66.1709      0.667     99.199      0.000        64.855    67.487\n",
      "FC            -3.4948      0.847     -4.128      0.000        -5.165    -1.824\n",
      "==============================================================================\n",
      "Omnibus:                        4.977   Durbin-Watson:                   2.229\n",
      "Prob(Omnibus):                  0.083   Jarque-Bera (JB):                5.966\n",
      "Skew:                           0.173   Prob(JB):                       0.0506\n",
      "Kurtosis:                       3.817   Cond. No.                         3.01\n",
      "==============================================================================\n",
      "\n",
      "Warnings:\n",
      "[1] Standard Errors assume that the covariance matrix of the errors is correctly specified.\n"
     ]
    }
   ],
   "source": [
    "res = sm.ols(formula='popadultshare ~ FC', data=dat.loc[dat['year'] == 2000]).fit()\n",
    "print(res.summary())"
   ]
  },
  {
   "cell_type": "code",
   "execution_count": 26,
   "metadata": {
    "collapsed": false
   },
   "outputs": [
    {
     "name": "stdout",
     "output_type": "stream",
     "text": [
      "                            OLS Regression Results                            \n",
      "==============================================================================\n",
      "Dep. Variable:          popadultshare   R-squared:                       0.092\n",
      "Model:                            OLS   Adj. R-squared:                  0.081\n",
      "Method:                 Least Squares   F-statistic:                     9.029\n",
      "Date:                Tue, 03 Jan 2017   Prob (F-statistic):           0.000184\n",
      "Time:                        14:45:07   Log-Likelihood:                -568.34\n",
      "No. Observations:                 182   AIC:                             1143.\n",
      "Df Residuals:                     179   BIC:                             1152.\n",
      "Df Model:                           2                                         \n",
      "Covariance Type:            nonrobust                                         \n",
      "==============================================================================\n",
      "                 coef    std err          t      P>|t|      [95.0% Conf. Int.]\n",
      "------------------------------------------------------------------------------\n",
      "Intercept     66.1242      0.669     98.894      0.000        64.805    67.444\n",
      "FC            -3.7806      0.893     -4.234      0.000        -5.542    -2.019\n",
      "HC             1.0733      1.066      1.007      0.315        -1.030     3.176\n",
      "==============================================================================\n",
      "Omnibus:                        5.677   Durbin-Watson:                   2.213\n",
      "Prob(Omnibus):                  0.059   Jarque-Bera (JB):                7.024\n",
      "Skew:                           0.200   Prob(JB):                       0.0298\n",
      "Kurtosis:                       3.876   Cond. No.                         3.50\n",
      "==============================================================================\n",
      "\n",
      "Warnings:\n",
      "[1] Standard Errors assume that the covariance matrix of the errors is correctly specified.\n"
     ]
    }
   ],
   "source": [
    "res = sm.ols(formula='popadultshare ~ FC + HC', data=dat.loc[dat['year'] == 2000]).fit()\n",
    "print(res.summary())"
   ]
  },
  {
   "cell_type": "code",
   "execution_count": 27,
   "metadata": {
    "collapsed": false
   },
   "outputs": [
    {
     "name": "stdout",
     "output_type": "stream",
     "text": [
      "                            OLS Regression Results                            \n",
      "==============================================================================\n",
      "Dep. Variable:                 casino   R-squared:                       0.001\n",
      "Model:                            OLS   Adj. R-squared:                 -0.005\n",
      "Method:                 Least Squares   F-statistic:                    0.1641\n",
      "Date:                Tue, 03 Jan 2017   Prob (F-statistic):              0.686\n",
      "Time:                        14:45:07   Log-Likelihood:                -120.79\n",
      "No. Observations:                 182   AIC:                             245.6\n",
      "Df Residuals:                     180   BIC:                             252.0\n",
      "Df Model:                           1                                         \n",
      "Covariance Type:            nonrobust                                         \n",
      "==============================================================================\n",
      "                 coef    std err          t      P>|t|      [95.0% Conf. Int.]\n",
      "------------------------------------------------------------------------------\n",
      "Intercept      0.6522      0.057     11.466      0.000         0.540     0.764\n",
      "FC             0.0292      0.072      0.405      0.686        -0.113     0.172\n",
      "==============================================================================\n",
      "Omnibus:                     1318.022   Durbin-Watson:                   1.984\n",
      "Prob(Omnibus):                  0.000   Jarque-Bera (JB):               32.321\n",
      "Skew:                          -0.724   Prob(JB):                     9.59e-08\n",
      "Kurtosis:                       1.528   Cond. No.                         3.01\n",
      "==============================================================================\n",
      "\n",
      "Warnings:\n",
      "[1] Standard Errors assume that the covariance matrix of the errors is correctly specified.\n"
     ]
    }
   ],
   "source": [
    "res = sm.ols(formula='casino ~ FC', data=dat.loc[dat['year'] == 2000]).fit()\n",
    "print(res.summary())"
   ]
  },
  {
   "cell_type": "code",
   "execution_count": 29,
   "metadata": {
    "collapsed": false
   },
   "outputs": [
    {
     "name": "stdout",
     "output_type": "stream",
     "text": [
      "                            OLS Regression Results                            \n",
      "==============================================================================\n",
      "Dep. Variable:                 casino   R-squared:                       0.005\n",
      "Model:                            OLS   Adj. R-squared:                 -0.006\n",
      "Method:                 Least Squares   F-statistic:                    0.4804\n",
      "Date:                Tue, 03 Jan 2017   Prob (F-statistic):              0.619\n",
      "Time:                        14:45:18   Log-Likelihood:                -120.38\n",
      "No. Observations:                 182   AIC:                             246.8\n",
      "Df Residuals:                     179   BIC:                             256.4\n",
      "Df Model:                           2                                         \n",
      "Covariance Type:            nonrobust                                         \n",
      "==============================================================================\n",
      "                 coef    std err          t      P>|t|      [95.0% Conf. Int.]\n",
      "------------------------------------------------------------------------------\n",
      "Intercept      0.6486      0.057     11.370      0.000         0.536     0.761\n",
      "FC             0.0076      0.076      0.100      0.920        -0.143     0.158\n",
      "HC             0.0812      0.091      0.893      0.373        -0.098     0.261\n",
      "==============================================================================\n",
      "Omnibus:                      980.101   Durbin-Watson:                   1.991\n",
      "Prob(Omnibus):                  0.000   Jarque-Bera (JB):               31.826\n",
      "Skew:                          -0.718   Prob(JB):                     1.23e-07\n",
      "Kurtosis:                       1.538   Cond. No.                         3.50\n",
      "==============================================================================\n",
      "\n",
      "Warnings:\n",
      "[1] Standard Errors assume that the covariance matrix of the errors is correctly specified.\n"
     ]
    }
   ],
   "source": [
    "res = sm.ols(formula='casino ~ FC + HC', data=dat.loc[dat['year'] == 2000]).fit()\n",
    "print(res.summary())"
   ]
  },
  {
   "cell_type": "markdown",
   "metadata": {
    "collapsed": true
   },
   "source": [
    "##### END OF WORK "
   ]
  }
 ],
 "metadata": {
  "kernelspec": {
   "display_name": "Python 3",
   "language": "python",
   "name": "python3"
  },
  "language_info": {
   "codemirror_mode": {
    "name": "ipython",
    "version": 3
   },
   "file_extension": ".py",
   "mimetype": "text/x-python",
   "name": "python",
   "nbconvert_exporter": "python",
   "pygments_lexer": "ipython3",
   "version": "3.5.2"
  }
 },
 "nbformat": 4,
 "nbformat_minor": 2
}
