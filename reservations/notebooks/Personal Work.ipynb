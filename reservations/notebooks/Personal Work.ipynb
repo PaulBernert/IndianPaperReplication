{
 "cells": [
  {
   "cell_type": "markdown",
   "metadata": {
    "deletable": true,
    "editable": true
   },
   "source": [
    "# Playpen"
   ]
  },
  {
   "cell_type": "code",
   "execution_count": 1,
   "metadata": {
    "collapsed": false,
    "deletable": true,
    "editable": true
   },
   "outputs": [],
   "source": [
    "import pandas as pd\n",
    "import matplotlib.pyplot as plt\n",
    "import seaborn as sns\n",
    "import statsmodels.formula.api as sm\n",
    "import statsmodels.api as statm\n",
    "import numpy as np \n",
    "\n",
    "%matplotlib inline"
   ]
  },
  {
   "cell_type": "code",
   "execution_count": 2,
   "metadata": {
    "collapsed": true,
    "deletable": true,
    "editable": true
   },
   "outputs": [],
   "source": [
    "dat = pd.read_pickle('indian2000.df')"
   ]
  },
  {
   "cell_type": "markdown",
   "metadata": {
    "deletable": true,
    "editable": true
   },
   "source": [
    "## Testing Out New Things"
   ]
  },
  {
   "cell_type": "markdown",
   "metadata": {
    "collapsed": true,
    "deletable": true,
    "editable": true
   },
   "source": [
    "### Casinos improve per-capita incomes on American Indian reservations."
   ]
  },
  {
   "cell_type": "code",
   "execution_count": 3,
   "metadata": {
    "collapsed": false,
    "deletable": true,
    "editable": true
   },
   "outputs": [
    {
     "name": "stdout",
     "output_type": "stream",
     "text": [
      "                            OLS Regression Results                            \n",
      "==============================================================================\n",
      "Dep. Variable:              pcinc_log   R-squared:                       0.022\n",
      "Model:                            OLS   Adj. R-squared:                  0.016\n",
      "Method:                 Least Squares   F-statistic:                     4.024\n",
      "Date:                Wed, 01 Feb 2017   Prob (F-statistic):             0.0463\n",
      "Time:                        14:42:25   Log-Likelihood:                -79.960\n",
      "No. Observations:                 182   AIC:                             163.9\n",
      "Df Residuals:                     180   BIC:                             170.3\n",
      "Df Model:                           1                                         \n",
      "Covariance Type:            nonrobust                                         \n",
      "==============================================================================\n",
      "                 coef    std err          t      P>|t|      [95.0% Conf. Int.]\n",
      "------------------------------------------------------------------------------\n",
      "Intercept      9.0928      0.049    186.556      0.000         8.997     9.189\n",
      "casino         0.1194      0.060      2.006      0.046         0.002     0.237\n",
      "==============================================================================\n",
      "Omnibus:                       18.329   Durbin-Watson:                   1.877\n",
      "Prob(Omnibus):                  0.000   Jarque-Bera (JB):               22.403\n",
      "Skew:                           0.682   Prob(JB):                     1.37e-05\n",
      "Kurtosis:                       4.046   Cond. No.                         3.25\n",
      "==============================================================================\n",
      "\n",
      "Warnings:\n",
      "[1] Standard Errors assume that the covariance matrix of the errors is correctly specified.\n"
     ]
    }
   ],
   "source": [
    "res = sm.ols(formula='pcinc_log ~ casino', data=dat.loc[dat['year'] == 2000]).fit()\n",
    "print(res.summary())"
   ]
  },
  {
   "cell_type": "markdown",
   "metadata": {
    "collapsed": true,
    "deletable": true,
    "editable": true
   },
   "source": [
    "### Including all variables, casinos still improve per-capita incomes on reservations."
   ]
  },
  {
   "cell_type": "code",
   "execution_count": 4,
   "metadata": {
    "collapsed": false,
    "deletable": true,
    "editable": true,
    "scrolled": true
   },
   "outputs": [
    {
     "name": "stdout",
     "output_type": "stream",
     "text": [
      "                            OLS Regression Results                            \n",
      "==============================================================================\n",
      "Dep. Variable:              pcinc_log   R-squared:                       0.457\n",
      "Model:                            OLS   Adj. R-squared:                  0.412\n",
      "Method:                 Least Squares   F-statistic:                     10.04\n",
      "Date:                Wed, 01 Feb 2017   Prob (F-statistic):           4.23e-16\n",
      "Time:                        14:42:35   Log-Likelihood:                -26.387\n",
      "No. Observations:                 182   AIC:                             82.77\n",
      "Df Residuals:                     167   BIC:                             130.8\n",
      "Df Model:                          14                                         \n",
      "Covariance Type:            nonrobust                                         \n",
      "===================================================================================\n",
      "                      coef    std err          t      P>|t|      [95.0% Conf. Int.]\n",
      "-----------------------------------------------------------------------------------\n",
      "Intercept           4.0715      2.070      1.967      0.051        -0.015     8.158\n",
      "FC                 -0.3034      0.054     -5.647      0.000        -0.409    -0.197\n",
      "HC                  0.3157      0.065      4.822      0.000         0.186     0.445\n",
      "pcinc_co_log        0.4643      0.197      2.352      0.020         0.075     0.854\n",
      "unempl_co_log       0.0429      0.112      0.381      0.703        -0.179     0.265\n",
      "logdist            -0.0851      0.025     -3.368      0.001        -0.135    -0.035\n",
      "logruggedness       0.0040      0.020      0.197      0.844        -0.036     0.044\n",
      "logresarea_sqkm    -0.0123      0.012     -1.047      0.296        -0.035     0.011\n",
      "ea_v5              -0.0157      0.015     -1.073      0.285        -0.045     0.013\n",
      "ea_v30             -0.0210      0.018     -1.191      0.235        -0.056     0.014\n",
      "ea_v32              0.0191      0.052      0.364      0.717        -0.084     0.123\n",
      "ea_v66             -0.0143      0.045     -0.317      0.751        -0.103     0.074\n",
      "logpop             -0.0054      0.027     -0.201      0.841        -0.059     0.048\n",
      "popadultshare       0.0152      0.004      3.557      0.000         0.007     0.024\n",
      "casino              0.1622      0.053      3.058      0.003         0.057     0.267\n",
      "==============================================================================\n",
      "Omnibus:                       18.098   Durbin-Watson:                   1.976\n",
      "Prob(Omnibus):                  0.000   Jarque-Bera (JB):               25.483\n",
      "Skew:                           0.601   Prob(JB):                     2.93e-06\n",
      "Kurtosis:                       4.383   Cond. No.                     6.32e+03\n",
      "==============================================================================\n",
      "\n",
      "Warnings:\n",
      "[1] Standard Errors assume that the covariance matrix of the errors is correctly specified.\n",
      "[2] The condition number is large, 6.32e+03. This might indicate that there are\n",
      "strong multicollinearity or other numerical problems.\n"
     ]
    }
   ],
   "source": [
    "res = sm.ols(formula='pcinc_log ~ FC + HC + pcinc_co_log + unempl_co_log + logdist + logruggedness + logresarea_sqkm + ea_v5 + ea_v30 + ea_v32 + ea_v66 + logpop + popadultshare + casino', data=dat.loc[dat['year'] == 2000]).fit()\n",
    "print(res.summary())"
   ]
  },
  {
   "cell_type": "code",
   "execution_count": 5,
   "metadata": {
    "collapsed": false,
    "deletable": true,
    "editable": true,
    "scrolled": true
   },
   "outputs": [
    {
     "name": "stdout",
     "output_type": "stream",
     "text": [
      "                            OLS Regression Results                            \n",
      "==============================================================================\n",
      "Dep. Variable:                 casino   R-squared:                       0.022\n",
      "Model:                            OLS   Adj. R-squared:                  0.016\n",
      "Method:                 Least Squares   F-statistic:                     4.024\n",
      "Date:                Wed, 01 Feb 2017   Prob (F-statistic):             0.0463\n",
      "Time:                        14:42:38   Log-Likelihood:                -118.86\n",
      "No. Observations:                 182   AIC:                             241.7\n",
      "Df Residuals:                     180   BIC:                             248.1\n",
      "Df Model:                           1                                         \n",
      "Covariance Type:            nonrobust                                         \n",
      "==============================================================================\n",
      "                 coef    std err          t      P>|t|      [95.0% Conf. Int.]\n",
      "------------------------------------------------------------------------------\n",
      "Intercept     -1.0094      0.838     -1.204      0.230        -2.663     0.644\n",
      "pcinc_log      0.1831      0.091      2.006      0.046         0.003     0.363\n",
      "==============================================================================\n",
      "Omnibus:                      712.438   Durbin-Watson:                   2.007\n",
      "Prob(Omnibus):                  0.000   Jarque-Bera (JB):               29.993\n",
      "Skew:                          -0.682   Prob(JB):                     3.07e-07\n",
      "Kurtosis:                       1.553   Cond. No.                         225.\n",
      "==============================================================================\n",
      "\n",
      "Warnings:\n",
      "[1] Standard Errors assume that the covariance matrix of the errors is correctly specified.\n"
     ]
    }
   ],
   "source": [
    "res = sm.ols(formula='casino ~ pcinc_log', data=dat.loc[dat['year'] == 2000]).fit()\n",
    "print(res.summary())"
   ]
  },
  {
   "cell_type": "markdown",
   "metadata": {
    "collapsed": true,
    "deletable": true,
    "editable": true
   },
   "source": [
    "### Reservation PCINC_LOG split by Casino binary value."
   ]
  },
  {
   "cell_type": "code",
   "execution_count": 8,
   "metadata": {
    "collapsed": false,
    "deletable": true,
    "editable": true
   },
   "outputs": [
    {
     "data": {
      "image/png": "[encoded data removed]",
      "text/plain": [
       "<matplotlib.figure.Figure at 0x7f41c1afed30>"
      ]
     },
     "metadata": {},
     "output_type": "display_data"
    },
    {
     "name": "stdout",
     "output_type": "stream",
     "text": [
      "Average Per-Capita Income for Non-Casino Tribes: 9.093\n",
      "Average Per-Capita Income for Casino Tribes: 9.212\n"
     ]
    }
   ],
   "source": [
    "plt.scatter(dat['casino'],dat['pcinc_log'])\n",
    "plt.show()\n",
    "\n",
    "nct = (dat.loc[dat['casino'] == 0]).mean()\n",
    "print('Average Per-Capita Income for Non-Casino Tribes: {0}'.format(\"%.3f\" % nct.pcinc_log))\n",
    "\n",
    "\n",
    "ct = (dat.loc[dat['casino'] == 1]).mean()\n",
    "print('Average Per-Capita Income for Casino Tribes: {0}'.format(\"%.3f\" % ct.pcinc_log))"
   ]
  },
  {
   "cell_type": "code",
   "execution_count": 36,
   "metadata": {
    "collapsed": false
   },
   "outputs": [
    {
     "name": "stdout",
     "output_type": "stream",
     "text": [
      "Casino == 0 --> 9.092801616579989\n",
      "Casino == 1 --> 9.21222639792166\n"
     ]
    }
   ],
   "source": [
    "# Calculate the mean PCINC of reservations with casino == 0\n",
    "print('Casino == 0 --> {0}\\nCasino == 1 --> {1}'.format(dat[dat.casino == 0].pcinc_log.mean(),\n",
    "                                                        dat[dat.casino == 1].pcinc_log.mean()))"
   ]
  },
  {
   "cell_type": "code",
   "execution_count": 27,
   "metadata": {
    "collapsed": false
   },
   "outputs": [
    {
     "data": {
      "text/plain": [
       "(-1, 2)"
      ]
     },
     "execution_count": 27,
     "metadata": {},
     "output_type": "execute_result"
    },
    {
     "data": {
      "image/png": "[encoded data removed]",
      "text/plain": [
       "<matplotlib.figure.Figure at 0x7f41c1522390>"
      ]
     },
     "metadata": {},
     "output_type": "display_data"
    }
   ],
   "source": [
    "our_data = {'above':dat[dat['pcinc_log'] >= 9.6],\n",
    "            'below':dat[dat['pcinc_log'] < 9.6],\n",
    "           }\n",
    "\n",
    "plt.title('Per Capita Income vs Casino Binary Variable')\n",
    "plt.scatter(our_data['above']['casino'],our_data['above']['pcinc_log'], color='red')\n",
    "plt.scatter(our_data['below']['casino'],our_data['below']['pcinc_log'], color='blue')\n",
    "plt.xlabel('Binary Operator')\n",
    "plt.ylabel('PCINC')\n",
    "plt.xlim((-1,2))"
   ]
  },
  {
   "cell_type": "code",
   "execution_count": 7,
   "metadata": {
    "collapsed": false,
    "deletable": true,
    "editable": true
   },
   "outputs": [
    {
     "data": {
      "image/png": "[encoded data removed]",
      "text/plain": [
       "<matplotlib.figure.Figure at 0x7f41c1af3fd0>"
      ]
     },
     "metadata": {},
     "output_type": "display_data"
    },
    {
     "name": "stdout",
     "output_type": "stream",
     "text": [
      "Average Per-Capita Income for Non-Casino Tribes: geo_id2\n",
      "165     9.394078\n",
      "250     9.359880\n",
      "360     9.661989\n",
      "440     9.033181\n",
      "450     8.651549\n",
      "510     9.130214\n",
      "525     9.261509\n",
      "680     9.176887\n",
      "720     8.717191\n",
      "940     9.015784\n",
      "965     9.222467\n",
      "1005    9.344434\n",
      "1070    9.278386\n",
      "1170    8.995413\n",
      "1210    8.741136\n",
      "1395    8.586346\n",
      "1440    8.859079\n",
      "1475    9.452266\n",
      "1505    8.962264\n",
      "1545    8.960981\n",
      "1575    9.277064\n",
      "1685    8.979417\n",
      "1700    9.081484\n",
      "1735    8.827908\n",
      "1750    8.504716\n",
      "1770    9.039908\n",
      "1840    9.061260\n",
      "1850    9.484633\n",
      "2040    8.997395\n",
      "2100    8.779250\n",
      "2175    8.999125\n",
      "2190    9.248984\n",
      "2400    9.137232\n",
      "2430    8.825707\n",
      "2570    9.610793\n",
      "2625    8.629450\n",
      "2635    9.391912\n",
      "2760    9.498147\n",
      "2785    8.911934\n",
      "2850    9.059401\n",
      "3010    9.294498\n",
      "3030    9.116469\n",
      "3130    9.347054\n",
      "3415    9.147401\n",
      "3460    8.922258\n",
      "3495    9.163668\n",
      "3550    9.595875\n",
      "3585    8.634087\n",
      "3825    9.047821\n",
      "3930    9.311271\n",
      "3980    9.420196\n",
      "4225    9.276970\n",
      "4255    9.519148\n",
      "4330    9.129022\n",
      "4390    8.844192\n",
      "4515    9.226902\n",
      "4665    8.815964\n",
      "4760    8.830397\n",
      "4770    9.069813\n",
      "4785    8.704336\n",
      "Name: pcinc_log, dtype: float64\n"
     ]
    },
    {
     "ename": "AttributeError",
     "evalue": "'NoneType' object has no attribute 'mean'",
     "output_type": "error",
     "traceback": [
      "\u001b[0;31m---------------------------------------------------------------------------\u001b[0m",
      "\u001b[0;31mAttributeError\u001b[0m                            Traceback (most recent call last)",
      "\u001b[0;32m<ipython-input-7-116139842d8a>\u001b[0m in \u001b[0;36m<module>\u001b[0;34m()\u001b[0m\n\u001b[1;32m      3\u001b[0m \u001b[0;34m\u001b[0m\u001b[0m\n\u001b[1;32m      4\u001b[0m \u001b[0mnct\u001b[0m \u001b[0;34m=\u001b[0m \u001b[0;34m(\u001b[0m\u001b[0mdat\u001b[0m\u001b[0;34m.\u001b[0m\u001b[0mloc\u001b[0m\u001b[0;34m[\u001b[0m\u001b[0mdat\u001b[0m\u001b[0;34m[\u001b[0m\u001b[0;34m'casino'\u001b[0m\u001b[0;34m]\u001b[0m \u001b[0;34m==\u001b[0m \u001b[0;36m0\u001b[0m\u001b[0;34m]\u001b[0m\u001b[0;34m)\u001b[0m\u001b[0;34m\u001b[0m\u001b[0m\n\u001b[0;32m----> 5\u001b[0;31m \u001b[0mprint\u001b[0m\u001b[0;34m(\u001b[0m\u001b[0;34m'Average Per-Capita Income for Non-Casino Tribes: {0}'\u001b[0m\u001b[0;34m.\u001b[0m\u001b[0mformat\u001b[0m\u001b[0;34m(\u001b[0m\u001b[0mnct\u001b[0m\u001b[0;34m.\u001b[0m\u001b[0mpcinc_log\u001b[0m\u001b[0;34m)\u001b[0m\u001b[0;34m)\u001b[0m\u001b[0;34m.\u001b[0m\u001b[0mmean\u001b[0m\u001b[0;34m(\u001b[0m\u001b[0;34m)\u001b[0m\u001b[0;34m\u001b[0m\u001b[0m\n\u001b[0m\u001b[1;32m      6\u001b[0m \u001b[0;34m\u001b[0m\u001b[0m\n\u001b[1;32m      7\u001b[0m \u001b[0;34m\u001b[0m\u001b[0m\n",
      "\u001b[0;31mAttributeError\u001b[0m: 'NoneType' object has no attribute 'mean'"
     ]
    }
   ],
   "source": [
    "plt.scatter(dat['casino'],dat['pcinc_log'])\n",
    "plt.show()\n",
    "\n",
    "nct = (dat.loc[dat['casino'] == 0])\n",
    "print('Average Per-Capita Income for Non-Casino Tribes: {0}'.format(nct.pcinc_log)).mean()\n",
    "\n",
    "\n",
    "ct = (dat.loc[dat['casino'] == 1])\n",
    "print('Average Per-Capita Income for Casino Tribes: {0}'.format(ct.pcinc_log)).mean()"
   ]
  },
  {
   "cell_type": "code",
   "execution_count": null,
   "metadata": {
    "collapsed": true,
    "deletable": true,
    "editable": true
   },
   "outputs": [],
   "source": []
  }
 ],
 "metadata": {
  "kernelspec": {
   "display_name": "Python 3",
   "language": "python",
   "name": "python3"
  },
  "language_info": {
   "codemirror_mode": {
    "name": "ipython",
    "version": 3
   },
   "file_extension": ".py",
   "mimetype": "text/x-python",
   "name": "python",
   "nbconvert_exporter": "python",
   "pygments_lexer": "ipython3",
   "version": "3.5.2"
  }
 },
 "nbformat": 4,
 "nbformat_minor": 2
}
