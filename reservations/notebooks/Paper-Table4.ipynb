{
 "cells": [
  {
   "cell_type": "markdown",
   "metadata": {},
   "source": [
    "# Table IV: First Stage & Reduced Form Relationship with Mining Instruments"
   ]
  },
  {
   "cell_type": "code",
   "execution_count": 1,
   "metadata": {
    "collapsed": true
   },
   "outputs": [],
   "source": [
    "import pandas as pd\n",
    "import matplotlib.pyplot as plt\n",
    "import seaborn as sns\n",
    "import statsmodels.formula.api as sm\n",
    "import numpy as np \n",
    "\n",
    "%matplotlib inline"
   ]
  },
  {
   "cell_type": "code",
   "execution_count": 2,
   "metadata": {
    "collapsed": true
   },
   "outputs": [],
   "source": [
    "dat = pd.read_pickle('indian2000.df')"
   ]
  },
  {
   "cell_type": "markdown",
   "metadata": {},
   "source": [
    "## Panel A: First Stage, Dependent: Forced Coexistence"
   ]
  },
  {
   "cell_type": "code",
   "execution_count": 3,
   "metadata": {
    "collapsed": false
   },
   "outputs": [
    {
     "name": "stdout",
     "output_type": "stream",
     "text": [
      "                            OLS Regression Results                            \n",
      "==============================================================================\n",
      "Dep. Variable:                     FC   R-squared:                       0.177\n",
      "Model:                            OLS   Adj. R-squared:                  0.163\n",
      "Method:                 Least Squares   F-statistic:                     12.76\n",
      "Date:                Tue, 03 Jan 2017   Prob (F-statistic):           1.37e-07\n",
      "Time:                        14:38:47   Log-Likelihood:                -108.89\n",
      "No. Observations:                 182   AIC:                             225.8\n",
      "Df Residuals:                     178   BIC:                             238.6\n",
      "Df Model:                           3                                         \n",
      "Covariance Type:            nonrobust                                         \n",
      "====================================================================================\n",
      "                       coef    std err          t      P>|t|      [95.0% Conf. Int.]\n",
      "------------------------------------------------------------------------------------\n",
      "Intercept            0.4655      0.042     11.169      0.000         0.383     0.548\n",
      "instrument_gold      0.0185      0.009      2.029      0.044         0.001     0.036\n",
      "intrument_silver     0.0480      0.015      3.296      0.001         0.019     0.077\n",
      "HC                   0.4464      0.083      5.384      0.000         0.283     0.610\n",
      "==============================================================================\n",
      "Omnibus:                      507.840   Durbin-Watson:                   1.967\n",
      "Prob(Omnibus):                  0.000   Jarque-Bera (JB):               16.370\n",
      "Skew:                          -0.174   Prob(JB):                     0.000279\n",
      "Kurtosis:                       1.572   Cond. No.                         10.3\n",
      "==============================================================================\n",
      "\n",
      "Warnings:\n",
      "[1] Standard Errors assume that the covariance matrix of the errors is correctly specified.\n"
     ]
    }
   ],
   "source": [
    "res = sm.ols(formula='FC ~ instrument_gold + intrument_silver + HC', data=dat.loc[dat['year'] == 2000]).fit()\n",
    "print(res.summary())"
   ]
  },
  {
   "cell_type": "code",
   "execution_count": 4,
   "metadata": {
    "collapsed": false
   },
   "outputs": [
    {
     "name": "stdout",
     "output_type": "stream",
     "text": [
      "                            OLS Regression Results                            \n",
      "==============================================================================\n",
      "Dep. Variable:                     FC   R-squared:                       0.194\n",
      "Model:                            OLS   Adj. R-squared:                  0.156\n",
      "Method:                 Least Squares   F-statistic:                     5.192\n",
      "Date:                Tue, 03 Jan 2017   Prob (F-statistic):           8.00e-06\n",
      "Time:                        14:38:47   Log-Likelihood:                -107.03\n",
      "No. Observations:                 182   AIC:                             232.1\n",
      "Df Residuals:                     173   BIC:                             260.9\n",
      "Df Model:                           8                                         \n",
      "Covariance Type:            nonrobust                                         \n",
      "====================================================================================\n",
      "                       coef    std err          t      P>|t|      [95.0% Conf. Int.]\n",
      "------------------------------------------------------------------------------------\n",
      "Intercept            5.6340      2.965      1.900      0.059        -0.219    11.487\n",
      "instrument_gold      0.0170      0.010      1.787      0.076        -0.002     0.036\n",
      "intrument_silver     0.0479      0.015      3.256      0.001         0.019     0.077\n",
      "HC                   0.4111      0.088      4.695      0.000         0.238     0.584\n",
      "pcinc_co_log        -0.4923      0.283     -1.736      0.084        -1.052     0.067\n",
      "unempl_co_log       -0.2008      0.159     -1.260      0.210        -0.515     0.114\n",
      "logdist             -0.0023      0.037     -0.062      0.951        -0.075     0.070\n",
      "logruggedness        0.0129      0.028      0.458      0.647        -0.043     0.069\n",
      "logresarea_sqkm     -0.0063      0.014     -0.446      0.657        -0.034     0.022\n",
      "==============================================================================\n",
      "Omnibus:                      231.376   Durbin-Watson:                   1.981\n",
      "Prob(Omnibus):                  0.000   Jarque-Bera (JB):               14.699\n",
      "Skew:                          -0.157   Prob(JB):                     0.000643\n",
      "Kurtosis:                       1.644   Cond. No.                     1.05e+03\n",
      "==============================================================================\n",
      "\n",
      "Warnings:\n",
      "[1] Standard Errors assume that the covariance matrix of the errors is correctly specified.\n",
      "[2] The condition number is large, 1.05e+03. This might indicate that there are\n",
      "strong multicollinearity or other numerical problems.\n"
     ]
    }
   ],
   "source": [
    "res = sm.ols(formula='FC ~ instrument_gold + intrument_silver + HC + pcinc_co_log + unempl_co_log + logdist + logruggedness + logresarea_sqkm', data=dat.loc[dat['year'] == 2000]).fit()\n",
    "print(res.summary())"
   ]
  },
  {
   "cell_type": "code",
   "execution_count": 5,
   "metadata": {
    "collapsed": false
   },
   "outputs": [
    {
     "name": "stdout",
     "output_type": "stream",
     "text": [
      "                            OLS Regression Results                            \n",
      "==============================================================================\n",
      "Dep. Variable:                     FC   R-squared:                       0.291\n",
      "Model:                            OLS   Adj. R-squared:                  0.241\n",
      "Method:                 Least Squares   F-statistic:                     5.785\n",
      "Date:                Tue, 03 Jan 2017   Prob (F-statistic):           2.44e-08\n",
      "Time:                        14:38:48   Log-Likelihood:                -95.298\n",
      "No. Observations:                 182   AIC:                             216.6\n",
      "Df Residuals:                     169   BIC:                             258.2\n",
      "Df Model:                          12                                         \n",
      "Covariance Type:            nonrobust                                         \n",
      "====================================================================================\n",
      "                       coef    std err          t      P>|t|      [95.0% Conf. Int.]\n",
      "------------------------------------------------------------------------------------\n",
      "Intercept            5.5340      2.872      1.927      0.056        -0.135    11.203\n",
      "instrument_gold      0.0153      0.010      1.544      0.125        -0.004     0.035\n",
      "intrument_silver     0.0542      0.015      3.627      0.000         0.025     0.084\n",
      "HC                   0.4571      0.091      5.029      0.000         0.278     0.636\n",
      "pcinc_co_log        -0.5221      0.278     -1.881      0.062        -1.070     0.026\n",
      "unempl_co_log       -0.2103      0.160     -1.313      0.191        -0.527     0.106\n",
      "logdist             -0.0154      0.035     -0.438      0.662        -0.085     0.054\n",
      "logruggedness       -0.0293      0.029     -1.014      0.312        -0.086     0.028\n",
      "logresarea_sqkm      0.0089      0.014      0.633      0.528        -0.019     0.037\n",
      "ea_v5               -0.0213      0.022     -0.972      0.332        -0.065     0.022\n",
      "ea_v30              -0.0102      0.027     -0.373      0.710        -0.064     0.044\n",
      "ea_v32               0.0509      0.077      0.665      0.507        -0.100     0.202\n",
      "ea_v66               0.2043      0.064      3.199      0.002         0.078     0.330\n",
      "==============================================================================\n",
      "Omnibus:                       31.691   Durbin-Watson:                   1.948\n",
      "Prob(Omnibus):                  0.000   Jarque-Bera (JB):                9.260\n",
      "Skew:                          -0.238   Prob(JB):                      0.00975\n",
      "Kurtosis:                       2.003   Cond. No.                     1.16e+03\n",
      "==============================================================================\n",
      "\n",
      "Warnings:\n",
      "[1] Standard Errors assume that the covariance matrix of the errors is correctly specified.\n",
      "[2] The condition number is large, 1.16e+03. This might indicate that there are\n",
      "strong multicollinearity or other numerical problems.\n"
     ]
    }
   ],
   "source": [
    "res = sm.ols(formula='FC ~ instrument_gold + intrument_silver + HC + pcinc_co_log + unempl_co_log + logdist + logruggedness + logresarea_sqkm + ea_v5 + ea_v30 + ea_v32 + ea_v66', data=dat.loc[dat['year'] == 2000]).fit()\n",
    "print(res.summary())"
   ]
  },
  {
   "cell_type": "code",
   "execution_count": 6,
   "metadata": {
    "collapsed": false
   },
   "outputs": [
    {
     "name": "stdout",
     "output_type": "stream",
     "text": [
      "                            OLS Regression Results                            \n",
      "==============================================================================\n",
      "Dep. Variable:                     FC   R-squared:                       0.379\n",
      "Model:                            OLS   Adj. R-squared:                  0.323\n",
      "Method:                 Least Squares   F-statistic:                     6.763\n",
      "Date:                Tue, 03 Jan 2017   Prob (F-statistic):           2.86e-11\n",
      "Time:                        14:38:48   Log-Likelihood:                -83.214\n",
      "No. Observations:                 182   AIC:                             198.4\n",
      "Df Residuals:                     166   BIC:                             249.7\n",
      "Df Model:                          15                                         \n",
      "Covariance Type:            nonrobust                                         \n",
      "====================================================================================\n",
      "                       coef    std err          t      P>|t|      [95.0% Conf. Int.]\n",
      "------------------------------------------------------------------------------------\n",
      "Intercept            3.8088      2.873      1.326      0.187        -1.863     9.481\n",
      "instrument_gold      0.0184      0.009      1.953      0.053        -0.000     0.037\n",
      "intrument_silver     0.0532      0.014      3.705      0.000         0.025     0.082\n",
      "HC                   0.4495      0.086      5.208      0.000         0.279     0.620\n",
      "pcinc_co_log        -0.2745      0.275     -0.997      0.320        -0.818     0.269\n",
      "unempl_co_log       -0.1336      0.154     -0.866      0.388        -0.438     0.171\n",
      "logdist             -0.0040      0.035     -0.116      0.908        -0.073     0.065\n",
      "logruggedness       -0.0204      0.028     -0.729      0.467        -0.076     0.035\n",
      "logresarea_sqkm     -0.0163      0.016     -1.011      0.313        -0.048     0.015\n",
      "ea_v5               -0.0229      0.021     -1.074      0.284        -0.065     0.019\n",
      "ea_v30              -0.0070      0.026     -0.269      0.788        -0.058     0.044\n",
      "ea_v32               0.0045      0.073      0.061      0.952        -0.141     0.150\n",
      "ea_v66               0.1767      0.061      2.883      0.004         0.056     0.298\n",
      "logpop               0.1045      0.036      2.877      0.005         0.033     0.176\n",
      "popadultshare       -0.0191      0.006     -3.346      0.001        -0.030    -0.008\n",
      "casino              -0.0849      0.073     -1.159      0.248        -0.229     0.060\n",
      "==============================================================================\n",
      "Omnibus:                       13.974   Durbin-Watson:                   1.976\n",
      "Prob(Omnibus):                  0.001   Jarque-Bera (JB):                7.154\n",
      "Skew:                          -0.288   Prob(JB):                       0.0280\n",
      "Kurtosis:                       2.218   Cond. No.                     6.41e+03\n",
      "==============================================================================\n",
      "\n",
      "Warnings:\n",
      "[1] Standard Errors assume that the covariance matrix of the errors is correctly specified.\n",
      "[2] The condition number is large, 6.41e+03. This might indicate that there are\n",
      "strong multicollinearity or other numerical problems.\n"
     ]
    }
   ],
   "source": [
    "res = sm.ols(formula='FC ~ instrument_gold + intrument_silver + HC + pcinc_co_log + unempl_co_log + logdist + logruggedness + logresarea_sqkm + ea_v5 + ea_v30 + ea_v32 + ea_v66 + logpop + popadultshare + casino', data=dat.loc[dat['year'] == 2000]).fit()\n",
    "print(res.summary())"
   ]
  },
  {
   "cell_type": "code",
   "execution_count": 1,
   "metadata": {
    "collapsed": false
   },
   "outputs": [],
   "source": [
    "# Column Five - Work in Progress"
   ]
  },
  {
   "cell_type": "code",
   "execution_count": 2,
   "metadata": {
    "collapsed": true
   },
   "outputs": [],
   "source": [
    "# Column Six - Work in Progress"
   ]
  },
  {
   "cell_type": "markdown",
   "metadata": {},
   "source": [
    "## Panel B: Reduced Form, Dependent: log(per capita income)"
   ]
  },
  {
   "cell_type": "code",
   "execution_count": 7,
   "metadata": {
    "collapsed": false
   },
   "outputs": [
    {
     "name": "stdout",
     "output_type": "stream",
     "text": [
      "                            OLS Regression Results                            \n",
      "==============================================================================\n",
      "Dep. Variable:              pcinc_log   R-squared:                       0.040\n",
      "Model:                            OLS   Adj. R-squared:                  0.024\n",
      "Method:                 Least Squares   F-statistic:                     2.489\n",
      "Date:                Tue, 03 Jan 2017   Prob (F-statistic):             0.0620\n",
      "Time:                        14:38:49   Log-Likelihood:                -78.232\n",
      "No. Observations:                 182   AIC:                             164.5\n",
      "Df Residuals:                     178   BIC:                             177.3\n",
      "Df Model:                           3                                         \n",
      "Covariance Type:            nonrobust                                         \n",
      "====================================================================================\n",
      "                       coef    std err          t      P>|t|      [95.0% Conf. Int.]\n",
      "------------------------------------------------------------------------------------\n",
      "Intercept            9.1703      0.035    260.379      0.000         9.101     9.240\n",
      "instrument_gold     -0.0116      0.008     -1.505      0.134        -0.027     0.004\n",
      "intrument_silver    -0.0099      0.012     -0.805      0.422        -0.034     0.014\n",
      "HC                   0.1176      0.070      1.679      0.095        -0.021     0.256\n",
      "==============================================================================\n",
      "Omnibus:                       26.909   Durbin-Watson:                   1.846\n",
      "Prob(Omnibus):                  0.000   Jarque-Bera (JB):               38.242\n",
      "Skew:                           0.854   Prob(JB):                     4.96e-09\n",
      "Kurtosis:                       4.459   Cond. No.                         10.3\n",
      "==============================================================================\n",
      "\n",
      "Warnings:\n",
      "[1] Standard Errors assume that the covariance matrix of the errors is correctly specified.\n"
     ]
    }
   ],
   "source": [
    "res = sm.ols(formula='pcinc_log ~ instrument_gold + intrument_silver + HC', data=dat.loc[dat['year'] == 2000]).fit()\n",
    "print(res.summary())"
   ]
  },
  {
   "cell_type": "code",
   "execution_count": 8,
   "metadata": {
    "collapsed": false
   },
   "outputs": [
    {
     "name": "stdout",
     "output_type": "stream",
     "text": [
      "                            OLS Regression Results                            \n",
      "==============================================================================\n",
      "Dep. Variable:              pcinc_log   R-squared:                       0.212\n",
      "Model:                            OLS   Adj. R-squared:                  0.176\n",
      "Method:                 Least Squares   F-statistic:                     5.824\n",
      "Date:                Tue, 03 Jan 2017   Prob (F-statistic):           1.38e-06\n",
      "Time:                        14:38:49   Log-Likelihood:                -60.268\n",
      "No. Observations:                 182   AIC:                             138.5\n",
      "Df Residuals:                     173   BIC:                             167.4\n",
      "Df Model:                           8                                         \n",
      "Covariance Type:            nonrobust                                         \n",
      "====================================================================================\n",
      "                       coef    std err          t      P>|t|      [95.0% Conf. Int.]\n",
      "------------------------------------------------------------------------------------\n",
      "Intercept            4.1897      2.293      1.827      0.069        -0.337     8.716\n",
      "instrument_gold     -0.0097      0.007     -1.320      0.189        -0.024     0.005\n",
      "intrument_silver    -0.0103      0.011     -0.903      0.368        -0.033     0.012\n",
      "HC                   0.1664      0.068      2.457      0.015         0.033     0.300\n",
      "pcinc_co_log         0.5320      0.219      2.427      0.016         0.099     0.965\n",
      "unempl_co_log        0.0785      0.123      0.637      0.525        -0.165     0.322\n",
      "logdist             -0.0805      0.028     -2.826      0.005        -0.137    -0.024\n",
      "logruggedness        0.0097      0.022      0.443      0.658        -0.033     0.053\n",
      "logresarea_sqkm     -0.0127      0.011     -1.164      0.246        -0.034     0.009\n",
      "==============================================================================\n",
      "Omnibus:                       20.848   Durbin-Watson:                   1.888\n",
      "Prob(Omnibus):                  0.000   Jarque-Bera (JB):               30.165\n",
      "Skew:                           0.670   Prob(JB):                     2.82e-07\n",
      "Kurtosis:                       4.478   Cond. No.                     1.05e+03\n",
      "==============================================================================\n",
      "\n",
      "Warnings:\n",
      "[1] Standard Errors assume that the covariance matrix of the errors is correctly specified.\n",
      "[2] The condition number is large, 1.05e+03. This might indicate that there are\n",
      "strong multicollinearity or other numerical problems.\n"
     ]
    }
   ],
   "source": [
    "res = sm.ols(formula='pcinc_log ~ instrument_gold + intrument_silver + HC + pcinc_co_log + unempl_co_log + logdist + logruggedness + logresarea_sqkm', data=dat.loc[dat['year'] == 2000]).fit()\n",
    "print(res.summary())"
   ]
  },
  {
   "cell_type": "code",
   "execution_count": 9,
   "metadata": {
    "collapsed": false
   },
   "outputs": [
    {
     "name": "stdout",
     "output_type": "stream",
     "text": [
      "                            OLS Regression Results                            \n",
      "==============================================================================\n",
      "Dep. Variable:              pcinc_log   R-squared:                       0.239\n",
      "Model:                            OLS   Adj. R-squared:                  0.185\n",
      "Method:                 Least Squares   F-statistic:                     4.426\n",
      "Date:                Tue, 03 Jan 2017   Prob (F-statistic):           3.80e-06\n",
      "Time:                        14:38:50   Log-Likelihood:                -57.103\n",
      "No. Observations:                 182   AIC:                             140.2\n",
      "Df Residuals:                     169   BIC:                             181.9\n",
      "Df Model:                          12                                         \n",
      "Covariance Type:            nonrobust                                         \n",
      "====================================================================================\n",
      "                       coef    std err          t      P>|t|      [95.0% Conf. Int.]\n",
      "------------------------------------------------------------------------------------\n",
      "Intercept            3.6988      2.328      1.589      0.114        -0.897     8.295\n",
      "instrument_gold     -0.0078      0.008     -0.969      0.334        -0.024     0.008\n",
      "intrument_silver    -0.0179      0.012     -1.473      0.143        -0.042     0.006\n",
      "HC                   0.1813      0.074      2.461      0.015         0.036     0.327\n",
      "pcinc_co_log         0.5976      0.225      2.655      0.009         0.153     1.042\n",
      "unempl_co_log        0.1153      0.130      0.888      0.376        -0.141     0.372\n",
      "logdist             -0.0850      0.029     -2.976      0.003        -0.141    -0.029\n",
      "logruggedness        0.0197      0.023      0.842      0.401        -0.026     0.066\n",
      "logresarea_sqkm     -0.0139      0.011     -1.215      0.226        -0.036     0.009\n",
      "ea_v5               -0.0039      0.018     -0.217      0.828        -0.039     0.031\n",
      "ea_v30              -0.0207      0.022     -0.937      0.350        -0.064     0.023\n",
      "ea_v32               0.0009      0.062      0.015      0.988        -0.122     0.124\n",
      "ea_v66              -0.0746      0.052     -1.441      0.151        -0.177     0.028\n",
      "==============================================================================\n",
      "Omnibus:                       15.030   Durbin-Watson:                   1.859\n",
      "Prob(Omnibus):                  0.001   Jarque-Bera (JB):               20.283\n",
      "Skew:                           0.526   Prob(JB):                     3.94e-05\n",
      "Kurtosis:                       4.251   Cond. No.                     1.16e+03\n",
      "==============================================================================\n",
      "\n",
      "Warnings:\n",
      "[1] Standard Errors assume that the covariance matrix of the errors is correctly specified.\n",
      "[2] The condition number is large, 1.16e+03. This might indicate that there are\n",
      "strong multicollinearity or other numerical problems.\n"
     ]
    }
   ],
   "source": [
    "res = sm.ols(formula='pcinc_log ~ instrument_gold + intrument_silver + HC + pcinc_co_log + unempl_co_log + logdist + logruggedness + logresarea_sqkm + ea_v5 + ea_v30 + ea_v32 + ea_v66', data=dat.loc[dat['year'] == 2000]).fit()\n",
    "print(res.summary())"
   ]
  },
  {
   "cell_type": "code",
   "execution_count": 10,
   "metadata": {
    "collapsed": false
   },
   "outputs": [
    {
     "name": "stdout",
     "output_type": "stream",
     "text": [
      "                            OLS Regression Results                            \n",
      "==============================================================================\n",
      "Dep. Variable:              pcinc_log   R-squared:                       0.365\n",
      "Model:                            OLS   Adj. R-squared:                  0.308\n",
      "Method:                 Least Squares   F-statistic:                     6.365\n",
      "Date:                Tue, 03 Jan 2017   Prob (F-statistic):           1.47e-10\n",
      "Time:                        14:38:50   Log-Likelihood:                -40.628\n",
      "No. Observations:                 182   AIC:                             113.3\n",
      "Df Residuals:                     166   BIC:                             164.5\n",
      "Df Model:                          15                                         \n",
      "Covariance Type:            nonrobust                                         \n",
      "====================================================================================\n",
      "                       coef    std err          t      P>|t|      [95.0% Conf. Int.]\n",
      "------------------------------------------------------------------------------------\n",
      "Intercept            3.0769      2.274      1.353      0.178        -1.412     7.566\n",
      "instrument_gold     -0.0082      0.007     -1.097      0.274        -0.023     0.007\n",
      "intrument_silver    -0.0148      0.011     -1.299      0.196        -0.037     0.008\n",
      "HC                   0.1753      0.068      2.566      0.011         0.040     0.310\n",
      "pcinc_co_log         0.5313      0.218      2.439      0.016         0.101     0.961\n",
      "unempl_co_log        0.0815      0.122      0.667      0.506        -0.160     0.323\n",
      "logdist             -0.0834      0.028     -3.025      0.003        -0.138    -0.029\n",
      "logruggedness        0.0109      0.022      0.492      0.623        -0.033     0.055\n",
      "logresarea_sqkm     -0.0075      0.013     -0.594      0.554        -0.033     0.018\n",
      "ea_v5               -0.0106      0.017     -0.631      0.529        -0.044     0.023\n",
      "ea_v30              -0.0162      0.021     -0.786      0.433        -0.057     0.024\n",
      "ea_v32               0.0200      0.058      0.343      0.732        -0.095     0.135\n",
      "ea_v66              -0.0694      0.049     -1.431      0.154        -0.165     0.026\n",
      "logpop              -0.0380      0.029     -1.323      0.188        -0.095     0.019\n",
      "popadultshare        0.0210      0.005      4.640      0.000         0.012     0.030\n",
      "casino               0.1873      0.058      3.232      0.001         0.073     0.302\n",
      "==============================================================================\n",
      "Omnibus:                       30.021   Durbin-Watson:                   1.865\n",
      "Prob(Omnibus):                  0.000   Jarque-Bera (JB):               56.831\n",
      "Skew:                           0.800   Prob(JB):                     4.56e-13\n",
      "Kurtosis:                       5.222   Cond. No.                     6.41e+03\n",
      "==============================================================================\n",
      "\n",
      "Warnings:\n",
      "[1] Standard Errors assume that the covariance matrix of the errors is correctly specified.\n",
      "[2] The condition number is large, 6.41e+03. This might indicate that there are\n",
      "strong multicollinearity or other numerical problems.\n"
     ]
    }
   ],
   "source": [
    "res = sm.ols(formula='pcinc_log ~ instrument_gold + intrument_silver + HC + pcinc_co_log + unempl_co_log + logdist + logruggedness + logresarea_sqkm + ea_v5 + ea_v30 + ea_v32 + ea_v66 + logpop + popadultshare + casino', data=dat.loc[dat['year'] == 2000]).fit()\n",
    "print(res.summary())"
   ]
  },
  {
   "cell_type": "code",
   "execution_count": 4,
   "metadata": {
    "collapsed": true
   },
   "outputs": [],
   "source": [
    "# Column Five - Work in Progress"
   ]
  },
  {
   "cell_type": "code",
   "execution_count": 5,
   "metadata": {
    "collapsed": true
   },
   "outputs": [],
   "source": [
    "# Column Six - Work in Progress"
   ]
  },
  {
   "cell_type": "markdown",
   "metadata": {},
   "source": [
    "##### END OF WORK"
   ]
  }
 ],
 "metadata": {
  "kernelspec": {
   "display_name": "Python 3",
   "language": "python",
   "name": "python3"
  },
  "language_info": {
   "codemirror_mode": {
    "name": "ipython",
    "version": 3
   },
   "file_extension": ".py",
   "mimetype": "text/x-python",
   "name": "python",
   "nbconvert_exporter": "python",
   "pygments_lexer": "ipython3",
   "version": "3.5.2"
  }
 },
 "nbformat": 4,
 "nbformat_minor": 2
}
