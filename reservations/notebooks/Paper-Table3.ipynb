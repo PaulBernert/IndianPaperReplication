{
 "cells": [
  {
   "cell_type": "markdown",
   "metadata": {},
   "source": [
    "# Table III: OLS and Tribe Fixed-Effects Results"
   ]
  },
  {
   "cell_type": "code",
   "execution_count": 3,
   "metadata": {
    "collapsed": true
   },
   "outputs": [],
   "source": [
    "import pandas as pd\n",
    "import matplotlib.pyplot as plt\n",
    "import seaborn as sns\n",
    "import statsmodels.formula.api as sm\n",
    "import statsmodels.api as statm\n",
    "import numpy as np \n",
    "\n",
    "%matplotlib inline"
   ]
  },
  {
   "cell_type": "code",
   "execution_count": 4,
   "metadata": {
    "collapsed": true
   },
   "outputs": [],
   "source": [
    "dat = pd.read_pickle('indian2000.df')"
   ]
  },
  {
   "cell_type": "markdown",
   "metadata": {},
   "source": [
    "## Panel A: Ordinary Least Squares Regression"
   ]
  },
  {
   "cell_type": "code",
   "execution_count": 26,
   "metadata": {
    "collapsed": false,
    "scrolled": true
   },
   "outputs": [
    {
     "name": "stdout",
     "output_type": "stream",
     "text": [
      "                            OLS Regression Results                            \n",
      "==============================================================================\n",
      "Dep. Variable:              pcinc_log   R-squared:                       0.212\n",
      "Model:                            OLS   Adj. R-squared:                  0.203\n",
      "Method:                 Least Squares   F-statistic:                     24.03\n",
      "Date:                Tue, 10 Jan 2017   Prob (F-statistic):           5.69e-10\n",
      "Time:                        14:17:20   Log-Likelihood:                -60.328\n",
      "No. Observations:                 182   AIC:                             126.7\n",
      "Df Residuals:                     179   BIC:                             136.3\n",
      "Df Model:                           2                                         \n",
      "Covariance Type:            nonrobust                                         \n",
      "==============================================================================\n",
      "                 coef    std err          t      P>|t|      [95.0% Conf. Int.]\n",
      "------------------------------------------------------------------------------\n",
      "Intercept      9.3373      0.041    227.652      0.000         9.256     9.418\n",
      "FC            -0.3583      0.055     -6.543      0.000        -0.466    -0.250\n",
      "HC             0.2780      0.065      4.253      0.000         0.149     0.407\n",
      "==============================================================================\n",
      "Omnibus:                       17.568   Durbin-Watson:                   2.000\n",
      "Prob(Omnibus):                  0.000   Jarque-Bera (JB):               21.447\n",
      "Skew:                           0.658   Prob(JB):                     2.20e-05\n",
      "Kurtosis:                       4.048   Cond. No.                         3.50\n",
      "==============================================================================\n",
      "\n",
      "Warnings:\n",
      "[1] Standard Errors assume that the covariance matrix of the errors is correctly specified.\n"
     ]
    }
   ],
   "source": [
    "res = sm.ols(formula='pcinc_log ~ FC + HC', data=dat.loc[dat['year'] == 2000]).fit()\n",
    "print(res.summary())"
   ]
  },
  {
   "cell_type": "code",
   "execution_count": 27,
   "metadata": {
    "collapsed": false,
    "scrolled": true
   },
   "outputs": [
    {
     "name": "stdout",
     "output_type": "stream",
     "text": [
      "                            OLS Regression Results                            \n",
      "==============================================================================\n",
      "Dep. Variable:              pcinc_log   R-squared:                       0.360\n",
      "Model:                            OLS   Adj. R-squared:                  0.334\n",
      "Method:                 Least Squares   F-statistic:                     13.95\n",
      "Date:                Tue, 10 Jan 2017   Prob (F-statistic):           2.66e-14\n",
      "Time:                        14:17:22   Log-Likelihood:                -41.425\n",
      "No. Observations:                 182   AIC:                             98.85\n",
      "Df Residuals:                     174   BIC:                             124.5\n",
      "Df Model:                           7                                         \n",
      "Covariance Type:            nonrobust                                         \n",
      "===================================================================================\n",
      "                      coef    std err          t      P>|t|      [95.0% Conf. Int.]\n",
      "-----------------------------------------------------------------------------------\n",
      "Intercept           5.9126      2.066      2.861      0.005         1.834     9.991\n",
      "FC                 -0.3345      0.051     -6.594      0.000        -0.435    -0.234\n",
      "HC                  0.3042      0.063      4.850      0.000         0.180     0.428\n",
      "pcinc_co_log        0.3841      0.197      1.949      0.053        -0.005     0.773\n",
      "unempl_co_log       0.0084      0.111      0.076      0.940        -0.211     0.228\n",
      "logdist            -0.0826      0.026     -3.230      0.001        -0.133    -0.032\n",
      "logruggedness       0.0128      0.019      0.664      0.508        -0.025     0.051\n",
      "logresarea_sqkm    -0.0137      0.010     -1.411      0.160        -0.033     0.005\n",
      "==============================================================================\n",
      "Omnibus:                       11.979   Durbin-Watson:                   2.000\n",
      "Prob(Omnibus):                  0.003   Jarque-Bera (JB):               15.385\n",
      "Skew:                           0.448   Prob(JB):                     0.000456\n",
      "Kurtosis:                       4.108   Cond. No.                     1.05e+03\n",
      "==============================================================================\n",
      "\n",
      "Warnings:\n",
      "[1] Standard Errors assume that the covariance matrix of the errors is correctly specified.\n",
      "[2] The condition number is large, 1.05e+03. This might indicate that there are\n",
      "strong multicollinearity or other numerical problems.\n"
     ]
    }
   ],
   "source": [
    "res = sm.ols(formula='pcinc_log ~ FC + HC + pcinc_co_log + unempl_co_log + logdist + logruggedness + logresarea_sqkm', data=dat.loc[dat['year'] == 2000]).fit()\n",
    "print(res.summary())"
   ]
  },
  {
   "cell_type": "code",
   "execution_count": 28,
   "metadata": {
    "collapsed": false,
    "scrolled": true
   },
   "outputs": [
    {
     "name": "stdout",
     "output_type": "stream",
     "text": [
      "                            OLS Regression Results                            \n",
      "==============================================================================\n",
      "Dep. Variable:              pcinc_log   R-squared:                       0.393\n",
      "Model:                            OLS   Adj. R-squared:                  0.354\n",
      "Method:                 Least Squares   F-statistic:                     9.998\n",
      "Date:                Tue, 10 Jan 2017   Prob (F-statistic):           6.57e-14\n",
      "Time:                        14:17:24   Log-Likelihood:                -36.570\n",
      "No. Observations:                 182   AIC:                             97.14\n",
      "Df Residuals:                     170   BIC:                             135.6\n",
      "Df Model:                          11                                         \n",
      "Covariance Type:            nonrobust                                         \n",
      "===================================================================================\n",
      "                      coef    std err          t      P>|t|      [95.0% Conf. Int.]\n",
      "-----------------------------------------------------------------------------------\n",
      "Intercept           5.5942      2.065      2.708      0.007         1.517     9.671\n",
      "FC                 -0.3644      0.053     -6.871      0.000        -0.469    -0.260\n",
      "HC                  0.3514      0.068      5.165      0.000         0.217     0.486\n",
      "pcinc_co_log        0.4202      0.199      2.112      0.036         0.028     0.813\n",
      "unempl_co_log       0.0406      0.115      0.352      0.726        -0.187     0.268\n",
      "logdist            -0.0913      0.025     -3.597      0.000        -0.141    -0.041\n",
      "logruggedness       0.0085      0.021      0.411      0.681        -0.032     0.049\n",
      "logresarea_sqkm    -0.0102      0.010     -1.009      0.314        -0.030     0.010\n",
      "ea_v5              -0.0101      0.015     -0.684      0.495        -0.039     0.019\n",
      "ea_v30             -0.0268      0.018     -1.479      0.141        -0.063     0.009\n",
      "ea_v32              0.0170      0.054      0.316      0.752        -0.089     0.123\n",
      "ea_v66              0.0010      0.046      0.022      0.983        -0.090     0.092\n",
      "==============================================================================\n",
      "Omnibus:                        7.730   Durbin-Watson:                   2.018\n",
      "Prob(Omnibus):                  0.021   Jarque-Bera (JB):                9.303\n",
      "Skew:                           0.314   Prob(JB):                      0.00955\n",
      "Kurtosis:                       3.912   Cond. No.                     1.15e+03\n",
      "==============================================================================\n",
      "\n",
      "Warnings:\n",
      "[1] Standard Errors assume that the covariance matrix of the errors is correctly specified.\n",
      "[2] The condition number is large, 1.15e+03. This might indicate that there are\n",
      "strong multicollinearity or other numerical problems.\n"
     ]
    }
   ],
   "source": [
    "res = sm.ols(formula='pcinc_log ~ FC + HC + pcinc_co_log + unempl_co_log + logdist + logruggedness + logresarea_sqkm + ea_v5 + ea_v30 + ea_v32 + ea_v66', data=dat.loc[dat['year'] == 2000]).fit()\n",
    "print(res.summary())"
   ]
  },
  {
   "cell_type": "code",
   "execution_count": 29,
   "metadata": {
    "collapsed": false,
    "scrolled": true
   },
   "outputs": [
    {
     "name": "stdout",
     "output_type": "stream",
     "text": [
      "                            OLS Regression Results                            \n",
      "==============================================================================\n",
      "Dep. Variable:              pcinc_log   R-squared:                       0.457\n",
      "Model:                            OLS   Adj. R-squared:                  0.412\n",
      "Method:                 Least Squares   F-statistic:                     10.04\n",
      "Date:                Tue, 10 Jan 2017   Prob (F-statistic):           4.23e-16\n",
      "Time:                        14:17:24   Log-Likelihood:                -26.387\n",
      "No. Observations:                 182   AIC:                             82.77\n",
      "Df Residuals:                     167   BIC:                             130.8\n",
      "Df Model:                          14                                         \n",
      "Covariance Type:            nonrobust                                         \n",
      "===================================================================================\n",
      "                      coef    std err          t      P>|t|      [95.0% Conf. Int.]\n",
      "-----------------------------------------------------------------------------------\n",
      "Intercept           4.0715      2.070      1.967      0.051        -0.015     8.158\n",
      "FC                 -0.3034      0.054     -5.647      0.000        -0.409    -0.197\n",
      "HC                  0.3157      0.065      4.822      0.000         0.186     0.445\n",
      "pcinc_co_log        0.4643      0.197      2.352      0.020         0.075     0.854\n",
      "unempl_co_log       0.0429      0.112      0.381      0.703        -0.179     0.265\n",
      "logdist            -0.0851      0.025     -3.368      0.001        -0.135    -0.035\n",
      "logruggedness       0.0040      0.020      0.197      0.844        -0.036     0.044\n",
      "logresarea_sqkm    -0.0123      0.012     -1.047      0.296        -0.035     0.011\n",
      "ea_v5              -0.0157      0.015     -1.073      0.285        -0.045     0.013\n",
      "ea_v30             -0.0210      0.018     -1.191      0.235        -0.056     0.014\n",
      "ea_v32              0.0191      0.052      0.364      0.717        -0.084     0.123\n",
      "ea_v66             -0.0143      0.045     -0.317      0.751        -0.103     0.074\n",
      "logpop             -0.0054      0.027     -0.201      0.841        -0.059     0.048\n",
      "popadultshare       0.0152      0.004      3.557      0.000         0.007     0.024\n",
      "casino              0.1622      0.053      3.058      0.003         0.057     0.267\n",
      "==============================================================================\n",
      "Omnibus:                       18.098   Durbin-Watson:                   1.976\n",
      "Prob(Omnibus):                  0.000   Jarque-Bera (JB):               25.483\n",
      "Skew:                           0.601   Prob(JB):                     2.93e-06\n",
      "Kurtosis:                       4.383   Cond. No.                     6.32e+03\n",
      "==============================================================================\n",
      "\n",
      "Warnings:\n",
      "[1] Standard Errors assume that the covariance matrix of the errors is correctly specified.\n",
      "[2] The condition number is large, 6.32e+03. This might indicate that there are\n",
      "strong multicollinearity or other numerical problems.\n"
     ]
    }
   ],
   "source": [
    "res = sm.ols(formula='pcinc_log ~ FC + HC + pcinc_co_log + unempl_co_log + logdist + logruggedness + logresarea_sqkm + ea_v5 + ea_v30 + ea_v32 + ea_v66 + logpop + popadultshare + casino', data=dat.loc[dat['year'] == 2000]).fit()\n",
    "print(res.summary())"
   ]
  },
  {
   "cell_type": "code",
   "execution_count": 15,
   "metadata": {
    "collapsed": true
   },
   "outputs": [],
   "source": [
    "## COLUMN FIVE NOT WORKING"
   ]
  },
  {
   "cell_type": "markdown",
   "metadata": {},
   "source": [
    "## Panel B: Tribe Fixed Effects Regression (NOT WORKING)"
   ]
  },
  {
   "cell_type": "code",
   "execution_count": 9,
   "metadata": {
    "collapsed": false,
    "scrolled": true
   },
   "outputs": [
    {
     "name": "stdout",
     "output_type": "stream",
     "text": [
      "         Mixed Linear Model Regression Results\n",
      "=======================================================\n",
      "Model:            MixedLM Dependent Variable: pcinc_log\n",
      "No. Observations: 182     Method:             REML     \n",
      "No. Groups:       1       Scale:              0.1265   \n",
      "Min. group size:  182     Likelihood:         -73.8036 \n",
      "Max. group size:  182     Converged:          Yes      \n",
      "Mean group size:  182.0                                \n",
      "-------------------------------------------------------\n",
      "             Coef.  Std.Err.   z    P>|z| [0.025 0.975]\n",
      "-------------------------------------------------------\n",
      "Intercept     9.349    0.358 26.100 0.000  8.647 10.051\n",
      "FC           -0.284    0.054 -5.232 0.000 -0.391 -0.178\n",
      "Intercept RE  0.126                                    \n",
      "=======================================================\n",
      "\n"
     ]
    },
    {
     "name": "stderr",
     "output_type": "stream",
     "text": [
      "/usr/lib/python3.5/site-packages/statsmodels/regression/mixed_linear_model.py:160: VisibleDeprecationWarning: using a non-integer number instead of an integer will result in an error in the future\n",
      "  self._params = np.zeros(self.k_tot)\n",
      "/usr/lib/python3.5/site-packages/statsmodels/base/model.py:971: RuntimeWarning: invalid value encountered in sqrt\n",
      "  return np.sqrt(np.diag(self.cov_params()))\n"
     ]
    }
   ],
   "source": [
    "data = dat\n",
    "res = sm.mixedlm('pcinc_log ~ FC', data, groups=data['year']).fit()\n",
    "print(res.summary())"
   ]
  },
  {
   "cell_type": "code",
   "execution_count": 11,
   "metadata": {
    "collapsed": false,
    "scrolled": true
   },
   "outputs": [
    {
     "name": "stdout",
     "output_type": "stream",
     "text": [
      "          Mixed Linear Model Regression Results\n",
      "==========================================================\n",
      "Model:             MixedLM  Dependent Variable:  pcinc_log\n",
      "No. Observations:  182      Method:              REML     \n",
      "No. Groups:        1        Scale:               0.1090   \n",
      "Min. group size:   182      Likelihood:          -69.5601 \n",
      "Max. group size:   182      Converged:           Yes      \n",
      "Mean group size:   182.0                                  \n",
      "----------------------------------------------------------\n",
      "                Coef.  Std.Err.   z    P>|z| [0.025 0.975]\n",
      "----------------------------------------------------------\n",
      "Intercept        7.146    2.204  3.243 0.001  2.827 11.465\n",
      "FC              -0.263    0.052 -5.107 0.000 -0.365 -0.162\n",
      "pcinc_co_log     0.273    0.208  1.311 0.190 -0.135  0.680\n",
      "unempl_co_log   -0.084    0.116 -0.726 0.468 -0.312  0.144\n",
      "logdist         -0.083    0.027 -3.044 0.002 -0.136 -0.029\n",
      "logruggedness   -0.005    0.020 -0.231 0.817 -0.044  0.035\n",
      "logresarea_sqkm -0.017    0.010 -1.701 0.089 -0.038  0.003\n",
      "Intercept RE     0.109                                    \n",
      "==========================================================\n",
      "\n"
     ]
    },
    {
     "name": "stderr",
     "output_type": "stream",
     "text": [
      "/usr/lib/python3.5/site-packages/statsmodels/regression/mixed_linear_model.py:160: VisibleDeprecationWarning: using a non-integer number instead of an integer will result in an error in the future\n",
      "  self._params = np.zeros(self.k_tot)\n",
      "/usr/lib/python3.5/site-packages/statsmodels/base/model.py:971: RuntimeWarning: invalid value encountered in sqrt\n",
      "  return np.sqrt(np.diag(self.cov_params()))\n"
     ]
    }
   ],
   "source": [
    "data = dat\n",
    "res = sm.mixedlm('pcinc_log ~ FC + pcinc_co_log + unempl_co_log + logdist + logruggedness + logresarea_sqkm', data, groups=data['year']).fit()\n",
    "print(res.summary())"
   ]
  },
  {
   "cell_type": "code",
   "execution_count": 14,
   "metadata": {
    "collapsed": false,
    "scrolled": true
   },
   "outputs": [
    {
     "name": "stdout",
     "output_type": "stream",
     "text": [
      "          Mixed Linear Model Regression Results\n",
      "==========================================================\n",
      "Model:             MixedLM  Dependent Variable:  pcinc_log\n",
      "No. Observations:  182      Method:              REML     \n",
      "No. Groups:        1        Scale:               0.0937   \n",
      "Min. group size:   182      Likelihood:          -66.8070 \n",
      "Max. group size:   182      Converged:           Yes      \n",
      "Mean group size:   182.0                                  \n",
      "----------------------------------------------------------\n",
      "                Coef.  Std.Err.   z    P>|z| [0.025 0.975]\n",
      "----------------------------------------------------------\n",
      "Intercept        5.594    2.088  2.679 0.007  1.502  9.687\n",
      "FC              -0.364    0.053 -6.871 0.000 -0.468 -0.260\n",
      "HC               0.351    0.068  5.165 0.000  0.218  0.485\n",
      "pcinc_co_log     0.420    0.199  2.112 0.035  0.030  0.810\n",
      "unempl_co_log    0.041    0.115  0.352 0.725 -0.186  0.267\n",
      "logdist         -0.091    0.025 -3.597 0.000 -0.141 -0.042\n",
      "logruggedness    0.009    0.021  0.411 0.681 -0.032  0.049\n",
      "logresarea_sqkm -0.010    0.010 -1.009 0.313 -0.030  0.010\n",
      "ea_v5           -0.010    0.015 -0.684 0.494 -0.039  0.019\n",
      "ea_v30          -0.027    0.018 -1.479 0.139 -0.062  0.009\n",
      "ea_v32           0.017    0.054  0.316 0.752 -0.088  0.122\n",
      "ea_v66           0.001    0.046  0.022 0.983 -0.089  0.091\n",
      "Intercept RE     0.094                                    \n",
      "==========================================================\n",
      "\n"
     ]
    },
    {
     "name": "stderr",
     "output_type": "stream",
     "text": [
      "/usr/lib/python3.5/site-packages/statsmodels/regression/mixed_linear_model.py:160: VisibleDeprecationWarning: using a non-integer number instead of an integer will result in an error in the future\n",
      "  self._params = np.zeros(self.k_tot)\n",
      "/usr/lib/python3.5/site-packages/statsmodels/base/model.py:971: RuntimeWarning: invalid value encountered in sqrt\n",
      "  return np.sqrt(np.diag(self.cov_params()))\n"
     ]
    }
   ],
   "source": [
    "data = dat\n",
    "res = sm.mixedlm('pcinc_log ~ FC + HC + pcinc_co_log + unempl_co_log + logdist + logruggedness + logresarea_sqkm + ea_v5 + ea_v30 + ea_v32 + ea_v66', data, groups=data['year']).fit()\n",
    "print(res.summary())"
   ]
  },
  {
   "cell_type": "code",
   "execution_count": 13,
   "metadata": {
    "collapsed": false,
    "scrolled": true
   },
   "outputs": [
    {
     "name": "stdout",
     "output_type": "stream",
     "text": [
      "          Mixed Linear Model Regression Results\n",
      "==========================================================\n",
      "Model:             MixedLM  Dependent Variable:  pcinc_log\n",
      "No. Observations:  182      Method:              REML     \n",
      "No. Groups:        1        Scale:               0.0853   \n",
      "Min. group size:   182      Likelihood:          -66.5867 \n",
      "Max. group size:   182      Converged:           Yes      \n",
      "Mean group size:   182.0                                  \n",
      "----------------------------------------------------------\n",
      "                Coef.  Std.Err.   z    P>|z| [0.025 0.975]\n",
      "----------------------------------------------------------\n",
      "Intercept        4.072    2.090  1.948 0.051 -0.025  8.168\n",
      "FC              -0.303    0.054 -5.647 0.000 -0.409 -0.198\n",
      "HC               0.316    0.065  4.822 0.000  0.187  0.444\n",
      "pcinc_co_log     0.464    0.197  2.352 0.019  0.077  0.851\n",
      "unempl_co_log    0.043    0.112  0.381 0.703 -0.178  0.263\n",
      "logdist         -0.085    0.025 -3.368 0.001 -0.135 -0.036\n",
      "logruggedness    0.004    0.020  0.197 0.844 -0.036  0.044\n",
      "logresarea_sqkm -0.012    0.012 -1.047 0.295 -0.035  0.011\n",
      "ea_v5           -0.016    0.015 -1.073 0.283 -0.044  0.013\n",
      "ea_v30          -0.021    0.018 -1.191 0.234 -0.056  0.014\n",
      "ea_v32           0.019    0.052  0.364 0.716 -0.084  0.122\n",
      "ea_v66          -0.014    0.045 -0.317 0.751 -0.102  0.074\n",
      "logpop          -0.005    0.027 -0.201 0.841 -0.058  0.048\n",
      "popadultshare    0.015    0.004  3.557 0.000  0.007  0.024\n",
      "casino           0.162    0.053  3.058 0.002  0.058  0.266\n",
      "Intercept RE     0.085                                    \n",
      "==========================================================\n",
      "\n"
     ]
    },
    {
     "name": "stderr",
     "output_type": "stream",
     "text": [
      "/usr/lib/python3.5/site-packages/statsmodels/regression/mixed_linear_model.py:160: VisibleDeprecationWarning: using a non-integer number instead of an integer will result in an error in the future\n",
      "  self._params = np.zeros(self.k_tot)\n",
      "/usr/lib/python3.5/site-packages/statsmodels/base/model.py:971: RuntimeWarning: invalid value encountered in sqrt\n",
      "  return np.sqrt(np.diag(self.cov_params()))\n"
     ]
    }
   ],
   "source": [
    "data = dat\n",
    "res = sm.mixedlm('pcinc_log ~ FC + HC + pcinc_co_log + unempl_co_log + logdist + logruggedness + logresarea_sqkm + ea_v5 + ea_v30 + ea_v32 + ea_v66 + logpop + popadultshare + casino', data, groups=data['year']).fit()\n",
    "print(res.summary())"
   ]
  },
  {
   "cell_type": "code",
   "execution_count": 16,
   "metadata": {
    "collapsed": true
   },
   "outputs": [],
   "source": [
    "## COLUMN FIVE NOT WORKING"
   ]
  },
  {
   "cell_type": "markdown",
   "metadata": {},
   "source": [
    "##### END OF WORK"
   ]
  }
 ],
 "metadata": {
  "kernelspec": {
   "display_name": "Python 3",
   "language": "python",
   "name": "python3"
  },
  "language_info": {
   "codemirror_mode": {
    "name": "ipython",
    "version": 3
   },
   "file_extension": ".py",
   "mimetype": "text/x-python",
   "name": "python",
   "nbconvert_exporter": "python",
   "pygments_lexer": "ipython3",
   "version": "3.5.2"
  }
 },
 "nbformat": 4,
 "nbformat_minor": 2
}
