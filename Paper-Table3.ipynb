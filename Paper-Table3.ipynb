{
 "cells": [
  {
   "cell_type": "markdown",
   "metadata": {},
   "source": [
    "# Table III: OLS and Tribe Fixed-Effects Results"
   ]
  },
  {
   "cell_type": "code",
   "execution_count": 34,
   "metadata": {
    "collapsed": true
   },
   "outputs": [],
   "source": [
    "import pandas as pd\n",
    "import matplotlib.pyplot as plt\n",
    "import seaborn as sns\n",
    "import statsmodels.formula.api as sm\n",
    "import numpy as np \n",
    "\n",
    "%matplotlib inline"
   ]
  },
  {
   "cell_type": "code",
   "execution_count": 35,
   "metadata": {
    "collapsed": true
   },
   "outputs": [],
   "source": [
    "dat = pd.read_pickle('indian2000.df')"
   ]
  },
  {
   "cell_type": "markdown",
   "metadata": {},
   "source": [
    "## Panel A: Ordinary Least Squares Regression"
   ]
  },
  {
   "cell_type": "code",
   "execution_count": 36,
   "metadata": {
    "collapsed": false
   },
   "outputs": [
    {
     "name": "stdout",
     "output_type": "stream",
     "text": [
      "                            OLS Regression Results                            \n",
      "==============================================================================\n",
      "Dep. Variable:              pcinc_log   R-squared:                       0.212\n",
      "Model:                            OLS   Adj. R-squared:                  0.203\n",
      "Method:                 Least Squares   F-statistic:                     24.03\n",
      "Date:                Tue, 03 Jan 2017   Prob (F-statistic):           5.69e-10\n",
      "Time:                        14:15:18   Log-Likelihood:                -60.328\n",
      "No. Observations:                 182   AIC:                             126.7\n",
      "Df Residuals:                     179   BIC:                             136.3\n",
      "Df Model:                           2                                         \n",
      "Covariance Type:            nonrobust                                         \n",
      "==============================================================================\n",
      "                 coef    std err          t      P>|t|      [95.0% Conf. Int.]\n",
      "------------------------------------------------------------------------------\n",
      "Intercept      9.3373      0.041    227.652      0.000         9.256     9.418\n",
      "FC            -0.3583      0.055     -6.543      0.000        -0.466    -0.250\n",
      "HC             0.2780      0.065      4.253      0.000         0.149     0.407\n",
      "==============================================================================\n",
      "Omnibus:                       17.568   Durbin-Watson:                   2.000\n",
      "Prob(Omnibus):                  0.000   Jarque-Bera (JB):               21.447\n",
      "Skew:                           0.658   Prob(JB):                     2.20e-05\n",
      "Kurtosis:                       4.048   Cond. No.                         3.50\n",
      "==============================================================================\n",
      "\n",
      "Warnings:\n",
      "[1] Standard Errors assume that the covariance matrix of the errors is correctly specified.\n"
     ]
    }
   ],
   "source": [
    "res = sm.ols(formula='pcinc_log ~ FC + HC', data=dat.loc[dat['year'] == 2000]).fit()\n",
    "print(res.summary())"
   ]
  },
  {
   "cell_type": "code",
   "execution_count": 37,
   "metadata": {
    "collapsed": false
   },
   "outputs": [
    {
     "name": "stdout",
     "output_type": "stream",
     "text": [
      "                            OLS Regression Results                            \n",
      "==============================================================================\n",
      "Dep. Variable:              pcinc_log   R-squared:                       0.360\n",
      "Model:                            OLS   Adj. R-squared:                  0.334\n",
      "Method:                 Least Squares   F-statistic:                     13.95\n",
      "Date:                Tue, 03 Jan 2017   Prob (F-statistic):           2.66e-14\n",
      "Time:                        14:15:19   Log-Likelihood:                -41.425\n",
      "No. Observations:                 182   AIC:                             98.85\n",
      "Df Residuals:                     174   BIC:                             124.5\n",
      "Df Model:                           7                                         \n",
      "Covariance Type:            nonrobust                                         \n",
      "===================================================================================\n",
      "                      coef    std err          t      P>|t|      [95.0% Conf. Int.]\n",
      "-----------------------------------------------------------------------------------\n",
      "Intercept           5.9126      2.066      2.861      0.005         1.834     9.991\n",
      "FC                 -0.3345      0.051     -6.594      0.000        -0.435    -0.234\n",
      "HC                  0.3042      0.063      4.850      0.000         0.180     0.428\n",
      "pcinc_co_log        0.3841      0.197      1.949      0.053        -0.005     0.773\n",
      "unempl_co_log       0.0084      0.111      0.076      0.940        -0.211     0.228\n",
      "logdist            -0.0826      0.026     -3.230      0.001        -0.133    -0.032\n",
      "logruggedness       0.0128      0.019      0.664      0.508        -0.025     0.051\n",
      "logresarea_sqkm    -0.0137      0.010     -1.411      0.160        -0.033     0.005\n",
      "==============================================================================\n",
      "Omnibus:                       11.979   Durbin-Watson:                   2.000\n",
      "Prob(Omnibus):                  0.003   Jarque-Bera (JB):               15.385\n",
      "Skew:                           0.448   Prob(JB):                     0.000456\n",
      "Kurtosis:                       4.108   Cond. No.                     1.05e+03\n",
      "==============================================================================\n",
      "\n",
      "Warnings:\n",
      "[1] Standard Errors assume that the covariance matrix of the errors is correctly specified.\n",
      "[2] The condition number is large, 1.05e+03. This might indicate that there are\n",
      "strong multicollinearity or other numerical problems.\n"
     ]
    }
   ],
   "source": [
    "res = sm.ols(formula='pcinc_log ~ FC + HC + pcinc_co_log + unempl_co_log + logdist + logruggedness + logresarea_sqkm', data=dat.loc[dat['year'] == 2000]).fit()\n",
    "print(res.summary())"
   ]
  },
  {
   "cell_type": "code",
   "execution_count": 38,
   "metadata": {
    "collapsed": false
   },
   "outputs": [
    {
     "name": "stdout",
     "output_type": "stream",
     "text": [
      "                            OLS Regression Results                            \n",
      "==============================================================================\n",
      "Dep. Variable:              pcinc_log   R-squared:                       0.393\n",
      "Model:                            OLS   Adj. R-squared:                  0.354\n",
      "Method:                 Least Squares   F-statistic:                     9.998\n",
      "Date:                Tue, 03 Jan 2017   Prob (F-statistic):           6.57e-14\n",
      "Time:                        14:15:19   Log-Likelihood:                -36.570\n",
      "No. Observations:                 182   AIC:                             97.14\n",
      "Df Residuals:                     170   BIC:                             135.6\n",
      "Df Model:                          11                                         \n",
      "Covariance Type:            nonrobust                                         \n",
      "===================================================================================\n",
      "                      coef    std err          t      P>|t|      [95.0% Conf. Int.]\n",
      "-----------------------------------------------------------------------------------\n",
      "Intercept           5.5942      2.065      2.708      0.007         1.517     9.671\n",
      "FC                 -0.3644      0.053     -6.871      0.000        -0.469    -0.260\n",
      "HC                  0.3514      0.068      5.165      0.000         0.217     0.486\n",
      "pcinc_co_log        0.4202      0.199      2.112      0.036         0.028     0.813\n",
      "unempl_co_log       0.0406      0.115      0.352      0.726        -0.187     0.268\n",
      "logdist            -0.0913      0.025     -3.597      0.000        -0.141    -0.041\n",
      "logruggedness       0.0085      0.021      0.411      0.681        -0.032     0.049\n",
      "logresarea_sqkm    -0.0102      0.010     -1.009      0.314        -0.030     0.010\n",
      "ea_v5              -0.0101      0.015     -0.684      0.495        -0.039     0.019\n",
      "ea_v30             -0.0268      0.018     -1.479      0.141        -0.063     0.009\n",
      "ea_v32              0.0170      0.054      0.316      0.752        -0.089     0.123\n",
      "ea_v66              0.0010      0.046      0.022      0.983        -0.090     0.092\n",
      "==============================================================================\n",
      "Omnibus:                        7.730   Durbin-Watson:                   2.018\n",
      "Prob(Omnibus):                  0.021   Jarque-Bera (JB):                9.303\n",
      "Skew:                           0.314   Prob(JB):                      0.00955\n",
      "Kurtosis:                       3.912   Cond. No.                     1.15e+03\n",
      "==============================================================================\n",
      "\n",
      "Warnings:\n",
      "[1] Standard Errors assume that the covariance matrix of the errors is correctly specified.\n",
      "[2] The condition number is large, 1.15e+03. This might indicate that there are\n",
      "strong multicollinearity or other numerical problems.\n"
     ]
    }
   ],
   "source": [
    "res = sm.ols(formula='pcinc_log ~ FC + HC + pcinc_co_log + unempl_co_log + logdist + logruggedness + logresarea_sqkm + ea_v5 + ea_v30 + ea_v32 + ea_v66', data=dat.loc[dat['year'] == 2000]).fit()\n",
    "print(res.summary())"
   ]
  },
  {
   "cell_type": "code",
   "execution_count": 39,
   "metadata": {
    "collapsed": false
   },
   "outputs": [
    {
     "name": "stdout",
     "output_type": "stream",
     "text": [
      "                            OLS Regression Results                            \n",
      "==============================================================================\n",
      "Dep. Variable:              pcinc_log   R-squared:                       0.457\n",
      "Model:                            OLS   Adj. R-squared:                  0.412\n",
      "Method:                 Least Squares   F-statistic:                     10.04\n",
      "Date:                Tue, 03 Jan 2017   Prob (F-statistic):           4.23e-16\n",
      "Time:                        14:15:19   Log-Likelihood:                -26.387\n",
      "No. Observations:                 182   AIC:                             82.77\n",
      "Df Residuals:                     167   BIC:                             130.8\n",
      "Df Model:                          14                                         \n",
      "Covariance Type:            nonrobust                                         \n",
      "===================================================================================\n",
      "                      coef    std err          t      P>|t|      [95.0% Conf. Int.]\n",
      "-----------------------------------------------------------------------------------\n",
      "Intercept           4.0715      2.070      1.967      0.051        -0.015     8.158\n",
      "FC                 -0.3034      0.054     -5.647      0.000        -0.409    -0.197\n",
      "HC                  0.3157      0.065      4.822      0.000         0.186     0.445\n",
      "pcinc_co_log        0.4643      0.197      2.352      0.020         0.075     0.854\n",
      "unempl_co_log       0.0429      0.112      0.381      0.703        -0.179     0.265\n",
      "logdist            -0.0851      0.025     -3.368      0.001        -0.135    -0.035\n",
      "logruggedness       0.0040      0.020      0.197      0.844        -0.036     0.044\n",
      "logresarea_sqkm    -0.0123      0.012     -1.047      0.296        -0.035     0.011\n",
      "ea_v5              -0.0157      0.015     -1.073      0.285        -0.045     0.013\n",
      "ea_v30             -0.0210      0.018     -1.191      0.235        -0.056     0.014\n",
      "ea_v32              0.0191      0.052      0.364      0.717        -0.084     0.123\n",
      "ea_v66             -0.0143      0.045     -0.317      0.751        -0.103     0.074\n",
      "logpop             -0.0054      0.027     -0.201      0.841        -0.059     0.048\n",
      "popadultshare       0.0152      0.004      3.557      0.000         0.007     0.024\n",
      "casino              0.1622      0.053      3.058      0.003         0.057     0.267\n",
      "==============================================================================\n",
      "Omnibus:                       18.098   Durbin-Watson:                   1.976\n",
      "Prob(Omnibus):                  0.000   Jarque-Bera (JB):               25.483\n",
      "Skew:                           0.601   Prob(JB):                     2.93e-06\n",
      "Kurtosis:                       4.383   Cond. No.                     6.32e+03\n",
      "==============================================================================\n",
      "\n",
      "Warnings:\n",
      "[1] Standard Errors assume that the covariance matrix of the errors is correctly specified.\n",
      "[2] The condition number is large, 6.32e+03. This might indicate that there are\n",
      "strong multicollinearity or other numerical problems.\n"
     ]
    }
   ],
   "source": [
    "res = sm.ols(formula='pcinc_log ~ FC + HC + pcinc_co_log + unempl_co_log + logdist + logruggedness + logresarea_sqkm + ea_v5 + ea_v30 + ea_v32 + ea_v66 + logpop + popadultshare + casino', data=dat.loc[dat['year'] == 2000]).fit()\n",
    "print(res.summary())"
   ]
  },
  {
   "cell_type": "markdown",
   "metadata": {},
   "source": [
    "## Panel B: Tribe Fixed Effects Regression (NOT WORKING)"
   ]
  },
  {
   "cell_type": "code",
   "execution_count": 41,
   "metadata": {
    "collapsed": false
   },
   "outputs": [
    {
     "name": "stdout",
     "output_type": "stream",
     "text": [
      "                            OLS Regression Results                            \n",
      "==============================================================================\n",
      "Dep. Variable:              pcinc_log   R-squared:                       0.212\n",
      "Model:                            OLS   Adj. R-squared:                  0.203\n",
      "Method:                 Least Squares   F-statistic:                     24.03\n",
      "Date:                Tue, 03 Jan 2017   Prob (F-statistic):           5.69e-10\n",
      "Time:                        14:15:34   Log-Likelihood:                -60.328\n",
      "No. Observations:                 182   AIC:                             126.7\n",
      "Df Residuals:                     179   BIC:                             136.3\n",
      "Df Model:                           2                                         \n",
      "Covariance Type:            nonrobust                                         \n",
      "==============================================================================\n",
      "                 coef    std err          t      P>|t|      [95.0% Conf. Int.]\n",
      "------------------------------------------------------------------------------\n",
      "Intercept      9.3373      0.041    227.652      0.000         9.256     9.418\n",
      "FC            -0.3583      0.055     -6.543      0.000        -0.466    -0.250\n",
      "HC             0.2780      0.065      4.253      0.000         0.149     0.407\n",
      "==============================================================================\n",
      "Omnibus:                       17.568   Durbin-Watson:                   2.000\n",
      "Prob(Omnibus):                  0.000   Jarque-Bera (JB):               21.447\n",
      "Skew:                           0.658   Prob(JB):                     2.20e-05\n",
      "Kurtosis:                       4.048   Cond. No.                         3.50\n",
      "==============================================================================\n",
      "\n",
      "Warnings:\n",
      "[1] Standard Errors assume that the covariance matrix of the errors is correctly specified.\n"
     ]
    }
   ],
   "source": [
    "res = sm.ols(formula='pcinc_log ~ FC + HC',data=dat.loc[dat['year'] == 2000]).fit()\n",
    "print(res.summary())"
   ]
  },
  {
   "cell_type": "markdown",
   "metadata": {
    "collapsed": true
   },
   "source": [
    "##### END OF WORK "
   ]
  }
 ],
 "metadata": {
  "kernelspec": {
   "display_name": "Python 3",
   "language": "python",
   "name": "python3"
  },
  "language_info": {
   "codemirror_mode": {
    "name": "ipython",
    "version": 3
   },
   "file_extension": ".py",
   "mimetype": "text/x-python",
   "name": "python",
   "nbconvert_exporter": "python",
   "pygments_lexer": "ipython3",
   "version": "3.5.2"
  }
 },
 "nbformat": 4,
 "nbformat_minor": 2
}
