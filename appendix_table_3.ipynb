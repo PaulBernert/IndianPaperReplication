{
 "cells": [
  {
   "cell_type": "markdown",
   "metadata": {},
   "source": [
    "## Appendix Table 3"
   ]
  },
  {
   "cell_type": "code",
   "execution_count": 1,
   "metadata": {
    "collapsed": false
   },
   "outputs": [],
   "source": [
    "import pandas as pd\n",
    "import matplotlib.pyplot as plt\n",
    "import seaborn as sns\n",
    "import statsmodels.formula.api as sm\n",
    "import numpy as np \n",
    "\n",
    "%matplotlib inline"
   ]
  },
  {
   "cell_type": "markdown",
   "metadata": {},
   "source": [
    "First step is to load the data set into a pandas dataframe"
   ]
  },
  {
   "cell_type": "code",
   "execution_count": 2,
   "metadata": {
    "collapsed": true
   },
   "outputs": [],
   "source": [
    "dat = pd.read_csv('Indian2000Data.csv', index_col=0)"
   ]
  },
  {
   "cell_type": "markdown",
   "metadata": {},
   "source": [
    "This should be all data required, so now we move onto the fun stuff!"
   ]
  },
  {
   "cell_type": "markdown",
   "metadata": {},
   "source": [
    "## Recreate Table 3 In Appendix"
   ]
  },
  {
   "cell_type": "markdown",
   "metadata": {},
   "source": [
    "Change dataframe in some pretty sketchy ways"
   ]
  },
  {
   "cell_type": "code",
   "execution_count": 3,
   "metadata": {
    "collapsed": true
   },
   "outputs": [],
   "source": [
    "dat['pcinc_log'] = np.log(dat['pcinc'])\n",
    "dat['pcinc_co_log'] = np.log(dat['pcinc_co'])"
   ]
  },
  {
   "cell_type": "markdown",
   "metadata": {},
   "source": [
    "#### Apply Model Based on Table Columns"
   ]
  },
  {
   "cell_type": "markdown",
   "metadata": {},
   "source": [
    "##### Column 1 -- Confirmed"
   ]
  },
  {
   "cell_type": "code",
   "execution_count": 4,
   "metadata": {
    "collapsed": false
   },
   "outputs": [
    {
     "name": "stdout",
     "output_type": "stream",
     "text": [
      "                            OLS Regression Results                            \n",
      "==============================================================================\n",
      "Dep. Variable:              pcinc_log   R-squared:                       0.212\n",
      "Model:                            OLS   Adj. R-squared:                  0.203\n",
      "Method:                 Least Squares   F-statistic:                     24.03\n",
      "Date:                Tue, 27 Dec 2016   Prob (F-statistic):           5.69e-10\n",
      "Time:                        22:35:00   Log-Likelihood:                -60.328\n",
      "No. Observations:                 182   AIC:                             126.7\n",
      "Df Residuals:                     179   BIC:                             136.3\n",
      "Df Model:                           2                                         \n",
      "Covariance Type:            nonrobust                                         \n",
      "==============================================================================\n",
      "                 coef    std err          t      P>|t|      [95.0% Conf. Int.]\n",
      "------------------------------------------------------------------------------\n",
      "Intercept      9.3373      0.041    227.652      0.000         9.256     9.418\n",
      "FC            -0.3583      0.055     -6.543      0.000        -0.466    -0.250\n",
      "HC             0.2780      0.065      4.253      0.000         0.149     0.407\n",
      "==============================================================================\n",
      "Omnibus:                       17.568   Durbin-Watson:                   2.000\n",
      "Prob(Omnibus):                  0.000   Jarque-Bera (JB):               21.447\n",
      "Skew:                           0.658   Prob(JB):                     2.20e-05\n",
      "Kurtosis:                       4.048   Cond. No.                         3.50\n",
      "==============================================================================\n",
      "\n",
      "Warnings:\n",
      "[1] Standard Errors assume that the covariance matrix of the errors is correctly specified.\n"
     ]
    }
   ],
   "source": [
    "res = sm.ols(formula='pcinc_log ~ FC + HC', data=dat).fit()\n",
    "print(res.summary())"
   ]
  },
  {
   "cell_type": "markdown",
   "metadata": {},
   "source": [
    "##### Column 2 -- Confirmed"
   ]
  },
  {
   "cell_type": "code",
   "execution_count": 5,
   "metadata": {
    "collapsed": false
   },
   "outputs": [
    {
     "name": "stdout",
     "output_type": "stream",
     "text": [
      "                            OLS Regression Results                            \n",
      "==============================================================================\n",
      "Dep. Variable:              pcinc_log   R-squared:                       0.360\n",
      "Model:                            OLS   Adj. R-squared:                  0.334\n",
      "Method:                 Least Squares   F-statistic:                     13.95\n",
      "Date:                Tue, 27 Dec 2016   Prob (F-statistic):           2.66e-14\n",
      "Time:                        22:35:01   Log-Likelihood:                -41.423\n",
      "No. Observations:                 182   AIC:                             98.85\n",
      "Df Residuals:                     174   BIC:                             124.5\n",
      "Df Model:                           7                                         \n",
      "Covariance Type:            nonrobust                                         \n",
      "===================================================================================\n",
      "                      coef    std err          t      P>|t|      [95.0% Conf. Int.]\n",
      "-----------------------------------------------------------------------------------\n",
      "Intercept           6.1222      2.157      2.838      0.005         1.864    10.380\n",
      "FC                 -0.3351      0.051     -6.611      0.000        -0.435    -0.235\n",
      "HC                  0.3022      0.063      4.792      0.000         0.178     0.427\n",
      "pcinc_co_log        0.3654      0.208      1.761      0.080        -0.044     0.775\n",
      "unempl_co          -0.0026      0.029     -0.091      0.927        -0.060     0.054\n",
      "logdist            -0.0824      0.026     -3.226      0.002        -0.133    -0.032\n",
      "logruggedness       0.0136      0.019      0.702      0.484        -0.025     0.052\n",
      "logresarea_sqkm    -0.0143      0.010     -1.467      0.144        -0.033     0.005\n",
      "==============================================================================\n",
      "Omnibus:                       11.590   Durbin-Watson:                   1.997\n",
      "Prob(Omnibus):                  0.003   Jarque-Bera (JB):               14.737\n",
      "Skew:                           0.439   Prob(JB):                     0.000631\n",
      "Kurtosis:                       4.083   Cond. No.                     1.15e+03\n",
      "==============================================================================\n",
      "\n",
      "Warnings:\n",
      "[1] Standard Errors assume that the covariance matrix of the errors is correctly specified.\n",
      "[2] The condition number is large, 1.15e+03. This might indicate that there are\n",
      "strong multicollinearity or other numerical problems.\n"
     ]
    }
   ],
   "source": [
    "res = sm.ols(formula='pcinc_log ~ FC + HC + pcinc_co_log + unempl_co + logdist + logruggedness + logresarea_sqkm', data=dat).fit()\n",
    "print(res.summary())"
   ]
  },
  {
   "cell_type": "markdown",
   "metadata": {},
   "source": [
    "##### Column 3 -- values off"
   ]
  },
  {
   "cell_type": "code",
   "execution_count": 6,
   "metadata": {
    "collapsed": false
   },
   "outputs": [
    {
     "name": "stdout",
     "output_type": "stream",
     "text": [
      "                            OLS Regression Results                            \n",
      "==============================================================================\n",
      "Dep. Variable:              pcinc_log   R-squared:                       0.251\n",
      "Model:                            OLS   Adj. R-squared:                  0.225\n",
      "Method:                 Least Squares   F-statistic:                     9.780\n",
      "Date:                Tue, 27 Dec 2016   Prob (F-statistic):           2.74e-09\n",
      "Time:                        22:35:01   Log-Likelihood:                -55.657\n",
      "No. Observations:                 182   AIC:                             125.3\n",
      "Df Residuals:                     175   BIC:                             147.7\n",
      "Df Model:                           6                                         \n",
      "Covariance Type:            nonrobust                                         \n",
      "==============================================================================\n",
      "                 coef    std err          t      P>|t|      [95.0% Conf. Int.]\n",
      "------------------------------------------------------------------------------\n",
      "Intercept      9.3351      0.145     64.552      0.000         9.050     9.621\n",
      "FC            -0.4086      0.057     -7.197      0.000        -0.521    -0.297\n",
      "HC             0.3376      0.071      4.753      0.000         0.197     0.478\n",
      "ea_v5         -0.0208      0.015     -1.347      0.180        -0.051     0.010\n",
      "ea_v30        -0.0108      0.019     -0.564      0.574        -0.048     0.027\n",
      "ea_v32         0.0174      0.056      0.310      0.757        -0.094     0.128\n",
      "ea_v66         0.0414      0.048      0.868      0.387        -0.053     0.136\n",
      "==============================================================================\n",
      "Omnibus:                       11.872   Durbin-Watson:                   2.040\n",
      "Prob(Omnibus):                  0.003   Jarque-Bera (JB):               13.209\n",
      "Skew:                           0.515   Prob(JB):                      0.00135\n",
      "Kurtosis:                       3.824   Cond. No.                         34.1\n",
      "==============================================================================\n",
      "\n",
      "Warnings:\n",
      "[1] Standard Errors assume that the covariance matrix of the errors is correctly specified.\n"
     ]
    }
   ],
   "source": [
    "res = sm.ols(formula='pcinc_log ~ FC + HC + ea_v5 + ea_v30 + ea_v32 + ea_v66', data=dat).fit()\n",
    "print(res.summary())"
   ]
  },
  {
   "cell_type": "markdown",
   "metadata": {},
   "source": [
    "##### Column 4 -- Confirmed"
   ]
  },
  {
   "cell_type": "code",
   "execution_count": 7,
   "metadata": {
    "collapsed": false
   },
   "outputs": [
    {
     "name": "stdout",
     "output_type": "stream",
     "text": [
      "                            OLS Regression Results                            \n",
      "==============================================================================\n",
      "Dep. Variable:              pcinc_log   R-squared:                       0.328\n",
      "Model:                            OLS   Adj. R-squared:                  0.304\n",
      "Method:                 Least Squares   F-statistic:                     14.21\n",
      "Date:                Tue, 27 Dec 2016   Prob (F-statistic):           3.72e-13\n",
      "Time:                        22:35:01   Log-Likelihood:                -45.865\n",
      "No. Observations:                 182   AIC:                             105.7\n",
      "Df Residuals:                     175   BIC:                             128.2\n",
      "Df Model:                           6                                         \n",
      "Covariance Type:            nonrobust                                         \n",
      "=================================================================================\n",
      "                    coef    std err          t      P>|t|      [95.0% Conf. Int.]\n",
      "---------------------------------------------------------------------------------\n",
      "Intercept         8.6654      0.628     13.793      0.000         7.426     9.905\n",
      "FC               -0.2737      0.055     -4.974      0.000        -0.382    -0.165\n",
      "HC                0.2588      0.063      4.137      0.000         0.135     0.382\n",
      "logpop           -0.0067      0.153     -0.044      0.965        -0.308     0.295\n",
      "logpopsq         -0.0052      0.011     -0.491      0.624        -0.026     0.016\n",
      "popadultshare     0.0122      0.004      2.751      0.007         0.003     0.021\n",
      "casino            0.1956      0.054      3.633      0.000         0.089     0.302\n",
      "==============================================================================\n",
      "Omnibus:                       21.890   Durbin-Watson:                   1.971\n",
      "Prob(Omnibus):                  0.000   Jarque-Bera (JB):               29.159\n",
      "Skew:                           0.742   Prob(JB):                     4.66e-07\n",
      "Kurtosis:                       4.281   Cond. No.                     2.19e+03\n",
      "==============================================================================\n",
      "\n",
      "Warnings:\n",
      "[1] Standard Errors assume that the covariance matrix of the errors is correctly specified.\n",
      "[2] The condition number is large, 2.19e+03. This might indicate that there are\n",
      "strong multicollinearity or other numerical problems.\n"
     ]
    }
   ],
   "source": [
    "dat['logpopsq'] = dat['logpop']**2\n",
    "res = sm.ols(formula='pcinc_log ~ FC + HC + logpop + logpopsq + popadultshare + casino', data=dat).fit()\n",
    "print(res.summary())"
   ]
  },
  {
   "cell_type": "markdown",
   "metadata": {},
   "source": [
    "##### Column 5 -- Nope"
   ]
  },
  {
   "cell_type": "code",
   "execution_count": 8,
   "metadata": {
    "collapsed": false
   },
   "outputs": [
    {
     "name": "stdout",
     "output_type": "stream",
     "text": [
      "                            OLS Regression Results                            \n",
      "==============================================================================\n",
      "Dep. Variable:              pcinc_log   R-squared:                       0.212\n",
      "Model:                            OLS   Adj. R-squared:                  0.203\n",
      "Method:                 Least Squares   F-statistic:                     24.03\n",
      "Date:                Tue, 27 Dec 2016   Prob (F-statistic):           5.69e-10\n",
      "Time:                        22:35:01   Log-Likelihood:                -60.328\n",
      "No. Observations:                 182   AIC:                             126.7\n",
      "Df Residuals:                     179   BIC:                             136.3\n",
      "Df Model:                           2                                         \n",
      "Covariance Type:            nonrobust                                         \n",
      "==============================================================================\n",
      "                 coef    std err          t      P>|t|      [95.0% Conf. Int.]\n",
      "------------------------------------------------------------------------------\n",
      "Intercept      9.3373      0.041    227.652      0.000         9.256     9.418\n",
      "FC            -0.3583      0.055     -6.543      0.000        -0.466    -0.250\n",
      "HC             0.2780      0.065      4.253      0.000         0.149     0.407\n",
      "==============================================================================\n",
      "Omnibus:                       17.568   Durbin-Watson:                   2.000\n",
      "Prob(Omnibus):                  0.000   Jarque-Bera (JB):               21.447\n",
      "Skew:                           0.658   Prob(JB):                     2.20e-05\n",
      "Kurtosis:                       4.048   Cond. No.                         3.50\n",
      "==============================================================================\n",
      "\n",
      "Warnings:\n",
      "[1] Standard Errors assume that the covariance matrix of the errors is correctly specified.\n"
     ]
    }
   ],
   "source": [
    "res = sm.ols(formula='pcinc_log ~ FC + HC', data=dat).fit()\n",
    "print(res.summary())"
   ]
  },
  {
   "cell_type": "markdown",
   "metadata": {},
   "source": [
    "### Export Any Changes to dat"
   ]
  },
  {
   "cell_type": "code",
   "execution_count": 9,
   "metadata": {
    "collapsed": true
   },
   "outputs": [],
   "source": [
    "dat.to_pickle('indian2000.df')"
   ]
  }
 ],
 "metadata": {
  "kernelspec": {
   "display_name": "Python 2",
   "language": "python",
   "name": "python2"
  },
  "language_info": {
   "codemirror_mode": {
    "name": "ipython",
    "version": 2
   },
   "file_extension": ".py",
   "mimetype": "text/x-python",
   "name": "python",
   "nbconvert_exporter": "python",
   "pygments_lexer": "ipython2",
   "version": "2.7.12"
  }
 },
 "nbformat": 4,
 "nbformat_minor": 2
}
